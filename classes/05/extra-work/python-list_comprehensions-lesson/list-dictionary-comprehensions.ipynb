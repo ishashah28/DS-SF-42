{
 "cells": [
  {
   "cell_type": "markdown",
   "metadata": {},
   "source": [
    "<img src=\"http://imgur.com/1ZcRyrc.png\" style=\"float: left; margin: 20px; height: 55px\">\n",
    "\n",
    "## List and Dictionary Comprehensions\n",
    "\n",
    "_Author: Kiefer Katovich (SF)_\n",
    "\n",
    "---\n",
    "\n",
    "This codealong lecture covers the essentials of performing list and dictionary comprehensions in Python."
   ]
  },
  {
   "cell_type": "code",
   "execution_count": 1,
   "metadata": {
    "collapsed": true
   },
   "outputs": [],
   "source": [
    "import numpy as np\n",
    "import string"
   ]
  },
  {
   "cell_type": "markdown",
   "metadata": {},
   "source": [
    "---\n",
    "\n",
    "### Section 1: Basic list comprehensions\n",
    "\n",
    "##### 1-A) Add 1 to every element in the list."
   ]
  },
  {
   "cell_type": "code",
   "execution_count": 6,
   "metadata": {},
   "outputs": [
    {
     "data": {
      "text/plain": [
       "[1, 2, 3, 4, 5, 6, 7, 8, 9, 10]"
      ]
     },
     "execution_count": 6,
     "metadata": {},
     "output_type": "execute_result"
    }
   ],
   "source": [
    "numbers = [0,1,2,3,4,5,6,7,8,9]\n",
    "# for-loop version:\n",
    "numbers_plus_one = []\n",
    "for num in numbers:\n",
    "    numbers_plus_one.append(num+1)\n",
    "\n",
    "numbers_plus_one\n",
    "    "
   ]
  },
  {
   "cell_type": "code",
   "execution_count": 2,
   "metadata": {},
   "outputs": [
    {
     "data": {
      "text/plain": [
       "[1, 2, 3, 4, 5, 6, 7, 8, 9, 10]"
      ]
     },
     "execution_count": 2,
     "metadata": {},
     "output_type": "execute_result"
    }
   ],
   "source": [
    "# list comprehension version\n",
    "numbers = [0,1,2,3,4,5,6,7,8,9]\n",
    "[num + 1 for num in numbers]"
   ]
  },
  {
   "cell_type": "markdown",
   "metadata": {},
   "source": [
    "---\n",
    "\n",
    "### Section 2: List comprehension: Conditional logic\n",
    "\n",
    "##### 2-A) \"Binarize\" `n` so that any value greater than or equal to the mean of `n` is 1, otherwise 0. "
   ]
  },
  {
   "cell_type": "code",
   "execution_count": 3,
   "metadata": {
    "collapsed": true
   },
   "outputs": [],
   "source": [
    "n = [1, 2, 7, 21, 3, 1, 62, 3, 34, 12, 73, 44, 12, 11, 9]"
   ]
  },
  {
   "cell_type": "code",
   "execution_count": 14,
   "metadata": {},
   "outputs": [
    {
     "data": {
      "text/plain": [
       "[1, 1, 1, 0, 1, 1, 0, 1, 0, 1, 0, 0, 1, 1, 1]"
      ]
     },
     "execution_count": 14,
     "metadata": {},
     "output_type": "execute_result"
    }
   ],
   "source": [
    "# for loop\n",
    "\n",
    "mean_value = np.mean()\n",
    "binarized = []\n",
    "for i in n:\n",
    "    if i < mean_value:\n",
    "        binarized.append()"
   ]
  },
  {
   "cell_type": "code",
   "execution_count": 4,
   "metadata": {},
   "outputs": [
    {
     "data": {
      "text/plain": [
       "[1, 1, 1, 0, 1, 1, 0, 1, 0, 1, 0, 0, 1, 1, 1]"
      ]
     },
     "execution_count": 4,
     "metadata": {},
     "output_type": "execute_result"
    }
   ],
   "source": [
    "# list comprehension\n",
    "\n",
    "[1 if i < np.mean(n) else 0 for i in n]"
   ]
  },
  {
   "cell_type": "markdown",
   "metadata": {},
   "source": [
    "##### 2-B) Swap 1s to 0s and 0s to 1s. If the element is neither a 0 nor 1, make it `None`."
   ]
  },
  {
   "cell_type": "code",
   "execution_count": 6,
   "metadata": {
    "collapsed": true
   },
   "outputs": [],
   "source": [
    "n = [0, 1, 0, 1, 2, 3, 5, 2, 1, 0]"
   ]
  },
  {
   "cell_type": "code",
   "execution_count": 6,
   "metadata": {
    "collapsed": true
   },
   "outputs": [],
   "source": [
    "# for loop\n"
   ]
  },
  {
   "cell_type": "code",
   "execution_count": 7,
   "metadata": {},
   "outputs": [
    {
     "data": {
      "text/plain": [
       "[1, 0, 1, 0, 0, 1]"
      ]
     },
     "execution_count": 7,
     "metadata": {},
     "output_type": "execute_result"
    }
   ],
   "source": [
    "# list comprehension\n",
    "[np.abs(i-1) for i in n if i in [1,0]]"
   ]
  },
  {
   "cell_type": "markdown",
   "metadata": {},
   "source": [
    "---\n",
    "\n",
    "### Section 3: Nested list comprehensions\n",
    "\n",
    "##### 3-A) Get the square and square root of all non-negative numbers in the list."
   ]
  },
  {
   "cell_type": "code",
   "execution_count": 9,
   "metadata": {
    "collapsed": true
   },
   "outputs": [],
   "source": [
    "n = [0, 1, 50, -23, -1, 75, -3]"
   ]
  },
  {
   "cell_type": "code",
   "execution_count": 8,
   "metadata": {
    "collapsed": true
   },
   "outputs": [],
   "source": [
    "# for loop"
   ]
  },
  {
   "cell_type": "code",
   "execution_count": 15,
   "metadata": {},
   "outputs": [
    {
     "data": {
      "text/plain": [
       "[(1, 1.0), (2500, 7.0710678118654755), (5625, 8.6602540378443873)]"
      ]
     },
     "execution_count": 15,
     "metadata": {},
     "output_type": "execute_result"
    }
   ],
   "source": [
    "# list comprehension\n",
    "[(np.square(i),np.sqrt(i)) for i in n if i > 0]"
   ]
  },
  {
   "cell_type": "markdown",
   "metadata": {},
   "source": [
    "---\n",
    "\n",
    "### Section 4: Functions in list comprehensions\n",
    "\n",
    "##### 4-A) Combine elements of these two lists item by item into list pairs."
   ]
  },
  {
   "cell_type": "code",
   "execution_count": 16,
   "metadata": {
    "collapsed": true
   },
   "outputs": [],
   "source": [
    "a = ['a','b','c','d']\n",
    "z = ['z','y','x','w']"
   ]
  },
  {
   "cell_type": "code",
   "execution_count": 10,
   "metadata": {
    "collapsed": true
   },
   "outputs": [],
   "source": [
    "# for loop"
   ]
  },
  {
   "cell_type": "code",
   "execution_count": 17,
   "metadata": {},
   "outputs": [
    {
     "data": {
      "text/plain": [
       "[['a', 'z'], ['b', 'y'], ['c', 'x'], ['d', 'w']]"
      ]
     },
     "execution_count": 17,
     "metadata": {},
     "output_type": "execute_result"
    }
   ],
   "source": [
    "\n",
    "# list comprehension version:\n",
    "[[a[ix],z[ix]] for ix in range(4)]"
   ]
  },
  {
   "cell_type": "code",
   "execution_count": 18,
   "metadata": {
    "collapsed": true
   },
   "outputs": [],
   "source": [
    "az = dict(zip(a,z))"
   ]
  },
  {
   "cell_type": "code",
   "execution_count": 21,
   "metadata": {},
   "outputs": [
    {
     "data": {
      "text/plain": [
       "{'a': 'z', 'b': 'y', 'c': 'x', 'd': 'w'}"
      ]
     },
     "execution_count": 21,
     "metadata": {},
     "output_type": "execute_result"
    }
   ],
   "source": [
    "az\n"
   ]
  },
  {
   "cell_type": "code",
   "execution_count": null,
   "metadata": {
    "collapsed": true
   },
   "outputs": [],
   "source": []
  },
  {
   "cell_type": "code",
   "execution_count": 19,
   "metadata": {},
   "outputs": [
    {
     "data": {
      "text/plain": [
       "'x'"
      ]
     },
     "execution_count": 19,
     "metadata": {},
     "output_type": "execute_result"
    }
   ],
   "source": [
    "az[\"c\"]"
   ]
  },
  {
   "cell_type": "markdown",
   "metadata": {},
   "source": [
    "##### 4-B) Pair each index and element in this list into list pairs."
   ]
  },
  {
   "cell_type": "code",
   "execution_count": 12,
   "metadata": {
    "collapsed": true
   },
   "outputs": [],
   "source": [
    "a = ['a','b','c','d']"
   ]
  },
  {
   "cell_type": "code",
   "execution_count": 24,
   "metadata": {},
   "outputs": [
    {
     "data": {
      "text/plain": [
       "4"
      ]
     },
     "execution_count": 24,
     "metadata": {},
     "output_type": "execute_result"
    }
   ],
   "source": [
    "len(a)"
   ]
  },
  {
   "cell_type": "code",
   "execution_count": 25,
   "metadata": {},
   "outputs": [
    {
     "data": {
      "text/plain": [
       "[(0, 'a'), (1, 'b'), (2, 'c'), (3, 'd')]"
      ]
     },
     "execution_count": 25,
     "metadata": {},
     "output_type": "execute_result"
    }
   ],
   "source": [
    "# list comprehension\n",
    "[(ix,a[ix]) for ix in range(len(a))]"
   ]
  },
  {
   "cell_type": "markdown",
   "metadata": {},
   "source": [
    "##### 4-C)  Multiply each element in `list_one` by its index and divide by its counterpart in `list_two`."
   ]
  },
  {
   "cell_type": "code",
   "execution_count": 27,
   "metadata": {
    "collapsed": true
   },
   "outputs": [],
   "source": [
    "list_one = [10, 15, 20, 25, 40]\n",
    "list_two = [1, 2, 3, 4, 5]"
   ]
  },
  {
   "cell_type": "code",
   "execution_count": 28,
   "metadata": {},
   "outputs": [
    {
     "data": {
      "text/plain": [
       "[0.0, 7.5, 13.333333333333334, 18.75, 32.0]"
      ]
     },
     "execution_count": 28,
     "metadata": {},
     "output_type": "execute_result"
    }
   ],
   "source": [
    "# list comprehension\n",
    "\n",
    "[(list_one[ix]*ix/list_two[ix]) for ix in range(len(list_one))]"
   ]
  },
  {
   "cell_type": "markdown",
   "metadata": {},
   "source": [
    "---\n",
    "\n",
    "### Section 5: Nested list comprehensions\n",
    "\n",
    "##### 5-A) Create all the alphabet \"syllables\" defined as consonant-vowel pairs in a flattened list [use `for` loop iteration]."
   ]
  },
  {
   "cell_type": "code",
   "execution_count": 1,
   "metadata": {},
   "outputs": [
    {
     "name": "stdout",
     "output_type": "stream",
     "text": [
      "abcdefghijklmnopqrstuvwxyz\n"
     ]
    }
   ],
   "source": [
    "import string\n",
    "vowels = ['a', 'e', 'i', 'o', 'u']\n",
    "alphabet = string.ascii_lowercase\n",
    "print(alphabet)\n",
    "\n",
    "# for example:\n",
    "# ['ba','be','bi','bo','bu','ca','ce','ci', ...etc]"
   ]
  },
  {
   "cell_type": "code",
   "execution_count": null,
   "metadata": {
    "collapsed": true
   },
   "outputs": [],
   "source": []
  },
  {
   "cell_type": "markdown",
   "metadata": {},
   "source": [
    "##### 5-B) Create all the alphabet \"syllables\" defined as consonant-vowel pairs in a flattened list [using list comprehension]."
   ]
  },
  {
   "cell_type": "code",
   "execution_count": 3,
   "metadata": {},
   "outputs": [
    {
     "data": {
      "text/plain": [
       "[('a', 'a'),\n",
       " ('a', 'e'),\n",
       " ('a', 'i'),\n",
       " ('a', 'o'),\n",
       " ('a', 'u'),\n",
       " ('b', 'a'),\n",
       " ('b', 'e'),\n",
       " ('b', 'i'),\n",
       " ('b', 'o'),\n",
       " ('b', 'u'),\n",
       " ('c', 'a'),\n",
       " ('c', 'e'),\n",
       " ('c', 'i'),\n",
       " ('c', 'o'),\n",
       " ('c', 'u'),\n",
       " ('d', 'a'),\n",
       " ('d', 'e'),\n",
       " ('d', 'i'),\n",
       " ('d', 'o'),\n",
       " ('d', 'u'),\n",
       " ('e', 'a'),\n",
       " ('e', 'e'),\n",
       " ('e', 'i'),\n",
       " ('e', 'o'),\n",
       " ('e', 'u'),\n",
       " ('f', 'a'),\n",
       " ('f', 'e'),\n",
       " ('f', 'i'),\n",
       " ('f', 'o'),\n",
       " ('f', 'u'),\n",
       " ('g', 'a'),\n",
       " ('g', 'e'),\n",
       " ('g', 'i'),\n",
       " ('g', 'o'),\n",
       " ('g', 'u'),\n",
       " ('h', 'a'),\n",
       " ('h', 'e'),\n",
       " ('h', 'i'),\n",
       " ('h', 'o'),\n",
       " ('h', 'u'),\n",
       " ('i', 'a'),\n",
       " ('i', 'e'),\n",
       " ('i', 'i'),\n",
       " ('i', 'o'),\n",
       " ('i', 'u'),\n",
       " ('j', 'a'),\n",
       " ('j', 'e'),\n",
       " ('j', 'i'),\n",
       " ('j', 'o'),\n",
       " ('j', 'u'),\n",
       " ('k', 'a'),\n",
       " ('k', 'e'),\n",
       " ('k', 'i'),\n",
       " ('k', 'o'),\n",
       " ('k', 'u'),\n",
       " ('l', 'a'),\n",
       " ('l', 'e'),\n",
       " ('l', 'i'),\n",
       " ('l', 'o'),\n",
       " ('l', 'u'),\n",
       " ('m', 'a'),\n",
       " ('m', 'e'),\n",
       " ('m', 'i'),\n",
       " ('m', 'o'),\n",
       " ('m', 'u'),\n",
       " ('n', 'a'),\n",
       " ('n', 'e'),\n",
       " ('n', 'i'),\n",
       " ('n', 'o'),\n",
       " ('n', 'u'),\n",
       " ('o', 'a'),\n",
       " ('o', 'e'),\n",
       " ('o', 'i'),\n",
       " ('o', 'o'),\n",
       " ('o', 'u'),\n",
       " ('p', 'a'),\n",
       " ('p', 'e'),\n",
       " ('p', 'i'),\n",
       " ('p', 'o'),\n",
       " ('p', 'u'),\n",
       " ('q', 'a'),\n",
       " ('q', 'e'),\n",
       " ('q', 'i'),\n",
       " ('q', 'o'),\n",
       " ('q', 'u'),\n",
       " ('r', 'a'),\n",
       " ('r', 'e'),\n",
       " ('r', 'i'),\n",
       " ('r', 'o'),\n",
       " ('r', 'u'),\n",
       " ('s', 'a'),\n",
       " ('s', 'e'),\n",
       " ('s', 'i'),\n",
       " ('s', 'o'),\n",
       " ('s', 'u'),\n",
       " ('t', 'a'),\n",
       " ('t', 'e'),\n",
       " ('t', 'i'),\n",
       " ('t', 'o'),\n",
       " ('t', 'u'),\n",
       " ('u', 'a'),\n",
       " ('u', 'e'),\n",
       " ('u', 'i'),\n",
       " ('u', 'o'),\n",
       " ('u', 'u'),\n",
       " ('v', 'a'),\n",
       " ('v', 'e'),\n",
       " ('v', 'i'),\n",
       " ('v', 'o'),\n",
       " ('v', 'u'),\n",
       " ('w', 'a'),\n",
       " ('w', 'e'),\n",
       " ('w', 'i'),\n",
       " ('w', 'o'),\n",
       " ('w', 'u'),\n",
       " ('x', 'a'),\n",
       " ('x', 'e'),\n",
       " ('x', 'i'),\n",
       " ('x', 'o'),\n",
       " ('x', 'u'),\n",
       " ('y', 'a'),\n",
       " ('y', 'e'),\n",
       " ('y', 'i'),\n",
       " ('y', 'o'),\n",
       " ('y', 'u'),\n",
       " ('z', 'a'),\n",
       " ('z', 'e'),\n",
       " ('z', 'i'),\n",
       " ('z', 'o'),\n",
       " ('z', 'u')]"
      ]
     },
     "execution_count": 3,
     "metadata": {},
     "output_type": "execute_result"
    }
   ],
   "source": [
    "[(alpha,i) for alpha in alphabet for i in vowels]"
   ]
  },
  {
   "cell_type": "markdown",
   "metadata": {},
   "source": [
    "---\n",
    "\n",
    "### Section 6: Dictionary comprehensions\n",
    "\n",
    "##### 6-A) Make a dictionary in which keys are animals and values are lists, storing the [ASCII](http://www.asciitable.com/) number value of each character in the key.\n",
    "\n",
    "Hint: Use the **`ord()`** function to convert characters into their ASCII values."
   ]
  },
  {
   "cell_type": "code",
   "execution_count": 28,
   "metadata": {
    "collapsed": true
   },
   "outputs": [],
   "source": [
    "keys = ['dog', 'cat', 'bird', 'horse']"
   ]
  },
  {
   "cell_type": "code",
   "execution_count": null,
   "metadata": {
    "collapsed": true
   },
   "outputs": [],
   "source": []
  },
  {
   "cell_type": "markdown",
   "metadata": {},
   "source": [
    "##### 6-B) Create a dictionary with these column names and the corresponding column values."
   ]
  },
  {
   "cell_type": "code",
   "execution_count": 30,
   "metadata": {
    "collapsed": true
   },
   "outputs": [],
   "source": [
    "column_names = ['height','weight','is_male']\n",
    "values = [[62, 54, 60, 50], [180, 120, 200, 100], [True, False, True, False]]"
   ]
  },
  {
   "cell_type": "code",
   "execution_count": null,
   "metadata": {
    "collapsed": true
   },
   "outputs": [],
   "source": []
  }
 ],
 "metadata": {
  "kernelspec": {
   "display_name": "Python 3",
   "language": "python",
   "name": "python3"
  },
  "language_info": {
   "codemirror_mode": {
    "name": "ipython",
    "version": 3
   },
   "file_extension": ".py",
   "mimetype": "text/x-python",
   "name": "python",
   "nbconvert_exporter": "python",
   "pygments_lexer": "ipython3",
   "version": "3.6.1"
  }
 },
 "nbformat": 4,
 "nbformat_minor": 1
}
