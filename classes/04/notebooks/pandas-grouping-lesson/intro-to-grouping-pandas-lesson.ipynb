{
 "cells": [
  {
   "cell_type": "markdown",
   "metadata": {},
   "source": [
    "<img src=\"http://imgur.com/1ZcRyrc.png\" style=\"float: left; margin: 20px; height: 55px\">\n",
    "\n",
    "# Intermediate Pandas\n",
    "\n",
    "-  Map expressions\n",
    "- Grouping"
   ]
  },
  {
   "cell_type": "markdown",
   "metadata": {},
   "source": [
    "### Learning Objectives\n",
    "*After this lesson, you will be able to:*\n",
    "- Get comfortable with the **.map()** method on DataFrames for batch manipulations.\n",
    "- Know what situations **grouping** is useful for\n",
    "- Explain and use the **`.groupby()`** function in Pandas\n",
    "- Demonstrate aggregation and plotting methods by groups in Pandas"
   ]
  },
  {
   "cell_type": "code",
   "execution_count": 1,
   "metadata": {
    "collapsed": true
   },
   "outputs": [],
   "source": [
    "import pandas as pd\n",
    "import numpy as np\n",
    "import seaborn as sns\n",
    "import matplotlib.pyplot as plt\n",
    "sns.set_style('whitegrid')\n",
    "\n",
    "%matplotlib inline\n",
    "%config InlineBackend.figure_format ='retina'"
   ]
  },
  {
   "cell_type": "markdown",
   "metadata": {},
   "source": [
    "## Warmup / Review / Intro to \"map\" expressions\n",
    "\n",
    "Say we have some data on median transactions per month for our users..."
   ]
  },
  {
   "cell_type": "code",
   "execution_count": 20,
   "metadata": {
    "collapsed": true
   },
   "outputs": [],
   "source": [
    "transaction_list = [\n",
    "    \"5\",\n",
    "    \"12\",\n",
    "    \"0\",\n",
    "    \"9\",\n",
    "    \"45\",\n",
    "    \"6\",\n",
    "    \"39\",\n",
    "    \"84\",\n",
    "    \"40\",\n",
    "    \"19\",\n",
    "    \"23\",\n",
    "    \"87\",\n",
    "    \"26\",\n",
    "    \"1\"   \n",
    "]"
   ]
  },
  {
   "cell_type": "code",
   "execution_count": 21,
   "metadata": {},
   "outputs": [
    {
     "data": {
      "text/plain": [
       "[5, 12, 0, 9, 45, 6, 39, 84, 40, 19, 23, 87, 26, 1]"
      ]
     },
     "execution_count": 21,
     "metadata": {},
     "output_type": "execute_result"
    }
   ],
   "source": [
    "transaction_list_int = []\n",
    "for i in transaction_list:\n",
    "    transaction_list_int.append(int(i))\n",
    "transaction_list_int"
   ]
  },
  {
   "cell_type": "markdown",
   "metadata": {},
   "source": [
    "Let's take the mean of these data."
   ]
  },
  {
   "cell_type": "code",
   "execution_count": 23,
   "metadata": {},
   "outputs": [
    {
     "data": {
      "text/plain": [
       "28.285714285714285"
      ]
     },
     "execution_count": 23,
     "metadata": {},
     "output_type": "execute_result"
    }
   ],
   "source": [
    "np.mean(transaction_list_int)"
   ]
  },
  {
   "cell_type": "code",
   "execution_count": 24,
   "metadata": {},
   "outputs": [
    {
     "data": {
      "text/plain": [
       "21.0"
      ]
     },
     "execution_count": 24,
     "metadata": {},
     "output_type": "execute_result"
    }
   ],
   "source": [
    "np.median(transaction_list_int)"
   ]
  },
  {
   "cell_type": "markdown",
   "metadata": {},
   "source": [
    "So that didn't work.\n",
    "\n",
    "### <font color=blue>(Independent)</font> Activity: Process the `transaction_data` so its mean can be properly taken."
   ]
  },
  {
   "cell_type": "code",
   "execution_count": null,
   "metadata": {
    "collapsed": true
   },
   "outputs": [],
   "source": [
    "# Complete activity below\n",
    "\n"
   ]
  },
  {
   "cell_type": "markdown",
   "metadata": {},
   "source": [
    "What if our data was in a `DataFrame` or a `Series` instead of a `list`. It is possible to loop through pandas objects, just like we did with the list, but that isn't a best practice. Instead pandas offers the `.map()` method, dedicated functionality to perform iterative-like transformations.\n",
    "\n",
    "**Pandas type transformation**:"
   ]
  },
  {
   "cell_type": "code",
   "execution_count": 25,
   "metadata": {},
   "outputs": [
    {
     "data": {
      "text/html": [
       "<div>\n",
       "<style>\n",
       "    .dataframe thead tr:only-child th {\n",
       "        text-align: right;\n",
       "    }\n",
       "\n",
       "    .dataframe thead th {\n",
       "        text-align: left;\n",
       "    }\n",
       "\n",
       "    .dataframe tbody tr th {\n",
       "        vertical-align: top;\n",
       "    }\n",
       "</style>\n",
       "<table border=\"1\" class=\"dataframe\">\n",
       "  <thead>\n",
       "    <tr style=\"text-align: right;\">\n",
       "      <th></th>\n",
       "      <th>median_transaction_count</th>\n",
       "    </tr>\n",
       "  </thead>\n",
       "  <tbody>\n",
       "    <tr>\n",
       "      <th>0</th>\n",
       "      <td>5</td>\n",
       "    </tr>\n",
       "    <tr>\n",
       "      <th>1</th>\n",
       "      <td>12</td>\n",
       "    </tr>\n",
       "    <tr>\n",
       "      <th>2</th>\n",
       "      <td>0</td>\n",
       "    </tr>\n",
       "    <tr>\n",
       "      <th>3</th>\n",
       "      <td>9</td>\n",
       "    </tr>\n",
       "    <tr>\n",
       "      <th>4</th>\n",
       "      <td>45</td>\n",
       "    </tr>\n",
       "  </tbody>\n",
       "</table>\n",
       "</div>"
      ],
      "text/plain": [
       "  median_transaction_count\n",
       "0                        5\n",
       "1                       12\n",
       "2                        0\n",
       "3                        9\n",
       "4                       45"
      ]
     },
     "execution_count": 25,
     "metadata": {},
     "output_type": "execute_result"
    }
   ],
   "source": [
    "#Create DataFrame\n",
    "transaction_df = pd.DataFrame(transaction_list, columns = [\"median_transaction_count\"])\n",
    "transaction_df.head()"
   ]
  },
  {
   "cell_type": "code",
   "execution_count": 26,
   "metadata": {},
   "outputs": [
    {
     "name": "stdout",
     "output_type": "stream",
     "text": [
      "<class 'pandas.core.frame.DataFrame'>\n",
      "RangeIndex: 14 entries, 0 to 13\n",
      "Data columns (total 1 columns):\n",
      "median_transaction_count    14 non-null object\n",
      "dtypes: object(1)\n",
      "memory usage: 192.0+ bytes\n"
     ]
    }
   ],
   "source": [
    "transaction_df.info()"
   ]
  },
  {
   "cell_type": "markdown",
   "metadata": {},
   "source": [
    "(codealong) Convert the transaction_count column into Ints"
   ]
  },
  {
   "cell_type": "code",
   "execution_count": 28,
   "metadata": {},
   "outputs": [],
   "source": [
    "# To Do\n",
    "transaction_df['median_transaction_count'] = transaction_df['median_transaction_count'].map(int)"
   ]
  },
  {
   "cell_type": "code",
   "execution_count": 29,
   "metadata": {},
   "outputs": [
    {
     "name": "stdout",
     "output_type": "stream",
     "text": [
      "<class 'pandas.core.frame.DataFrame'>\n",
      "RangeIndex: 14 entries, 0 to 13\n",
      "Data columns (total 1 columns):\n",
      "median_transaction_count    14 non-null int64\n",
      "dtypes: int64(1)\n",
      "memory usage: 192.0 bytes\n"
     ]
    }
   ],
   "source": [
    "transaction_df.info()"
   ]
  },
  {
   "cell_type": "markdown",
   "metadata": {},
   "source": [
    "**Warning:** `.map()` is a `Series` method, it will not work on `DataFrames`. Instead you need either `.applymap()` or `.apply()`, which will come up later on.\n",
    "\n",
    "#### How do we handle converting types if we have messier data?"
   ]
  },
  {
   "cell_type": "code",
   "execution_count": 30,
   "metadata": {
    "collapsed": true
   },
   "outputs": [],
   "source": [
    "transaction_messy_list = [\n",
    "    \"5\",\n",
    "    \"12\",\n",
    "    \"0\",\n",
    "    \"9\",\n",
    "    \"?\",\n",
    "    \"6\",\n",
    "    \"missing\",\n",
    "    \"84\",\n",
    "    \"40\",\n",
    "    \"?\",\n",
    "    \"23\",\n",
    "    \"87\",\n",
    "    \"26\",\n",
    "    \"one\",\n",
    "    \"7\"\n",
    "]\n",
    "\n",
    "#Create df\n",
    "transaction_messy_df = pd.DataFrame(transaction_messy_list, columns = [\"median_transaction_count\"])"
   ]
  },
  {
   "cell_type": "code",
   "execution_count": 33,
   "metadata": {},
   "outputs": [
    {
     "ename": "ValueError",
     "evalue": "invalid literal for int() with base 10: '?'",
     "output_type": "error",
     "traceback": [
      "\u001b[0;31m---------------------------------------------------------------------------\u001b[0m",
      "\u001b[0;31mValueError\u001b[0m                                Traceback (most recent call last)",
      "\u001b[0;32m<ipython-input-33-bf2cd04ea588>\u001b[0m in \u001b[0;36m<module>\u001b[0;34m()\u001b[0m\n\u001b[0;32m----> 1\u001b[0;31m \u001b[0mtransaction_messy_df\u001b[0m\u001b[0;34m[\u001b[0m\u001b[0;34m'median_transaction_count'\u001b[0m\u001b[0;34m]\u001b[0m\u001b[0;34m.\u001b[0m\u001b[0mmap\u001b[0m\u001b[0;34m(\u001b[0m\u001b[0mint\u001b[0m\u001b[0;34m)\u001b[0m\u001b[0;34m\u001b[0m\u001b[0m\n\u001b[0m",
      "\u001b[0;32m/Users/ishashah/Applications/anaconda/lib/python3.6/site-packages/pandas/core/series.py\u001b[0m in \u001b[0;36mmap\u001b[0;34m(self, arg, na_action)\u001b[0m\n\u001b[1;32m   2156\u001b[0m         \u001b[0;32melse\u001b[0m\u001b[0;34m:\u001b[0m\u001b[0;34m\u001b[0m\u001b[0m\n\u001b[1;32m   2157\u001b[0m             \u001b[0;31m# arg is a function\u001b[0m\u001b[0;34m\u001b[0m\u001b[0;34m\u001b[0m\u001b[0m\n\u001b[0;32m-> 2158\u001b[0;31m             \u001b[0mnew_values\u001b[0m \u001b[0;34m=\u001b[0m \u001b[0mmap_f\u001b[0m\u001b[0;34m(\u001b[0m\u001b[0mvalues\u001b[0m\u001b[0;34m,\u001b[0m \u001b[0marg\u001b[0m\u001b[0;34m)\u001b[0m\u001b[0;34m\u001b[0m\u001b[0m\n\u001b[0m\u001b[1;32m   2159\u001b[0m \u001b[0;34m\u001b[0m\u001b[0m\n\u001b[1;32m   2160\u001b[0m         return self._constructor(new_values,\n",
      "\u001b[0;32mpandas/_libs/src/inference.pyx\u001b[0m in \u001b[0;36mpandas._libs.lib.map_infer (pandas/_libs/lib.c:66440)\u001b[0;34m()\u001b[0m\n",
      "\u001b[0;31mValueError\u001b[0m: invalid literal for int() with base 10: '?'"
     ]
    }
   ],
   "source": [
    "transaction_messy_df['median_transaction_count'].map(int)"
   ]
  },
  {
   "cell_type": "markdown",
   "metadata": {},
   "source": [
    "We can \"map\" custom functions that we right ourselves. This gives us ALOT of flexibility.\n",
    "\n",
    "### <font color=blue>(Independent)</font> Activity: Write a function to process a single transaction value"
   ]
  },
  {
   "cell_type": "code",
   "execution_count": 64,
   "metadata": {
    "collapsed": true
   },
   "outputs": [],
   "source": [
    "def clean_transaction_value(number_string):\n",
    "    \"\"\"\n",
    "    Convert strings of numeric values to Int, otherwise return np.nan\n",
    "    \"\"\"\n",
    "    #Your work here\n",
    "    try:\n",
    "        return int(number_string)\n",
    "    except ValueError:\n",
    "        return np.nan"
   ]
  },
  {
   "cell_type": "code",
   "execution_count": 61,
   "metadata": {
    "collapsed": true
   },
   "outputs": [],
   "source": [
    "#without try except\n",
    "def clean_transaction_value(number_string):\n",
    "    \"\"\"\n",
    "    Convert strings of numeric values to Int, otherwise return np.nan\n",
    "    \"\"\"\n",
    "    #Your work here\n",
    "    if number_string.isdigit():\n",
    "        return int(number_string)\n",
    "    else:\n",
    "        return np.nan"
   ]
  },
  {
   "cell_type": "markdown",
   "metadata": {},
   "source": [
    "Now lets use this function to clean our `transaction_messy_df`."
   ]
  },
  {
   "cell_type": "code",
   "execution_count": 66,
   "metadata": {},
   "outputs": [
    {
     "data": {
      "text/plain": [
       "27.181818181818183"
      ]
     },
     "execution_count": 66,
     "metadata": {},
     "output_type": "execute_result"
    }
   ],
   "source": [
    "transaction_messy_df['median_transaction_count'] = transaction_messy_df['median_transaction_count'].map(clean_transaction_value)\n",
    "transaction_messy_df['median_transaction_count'].mean()"
   ]
  },
  {
   "cell_type": "code",
   "execution_count": 47,
   "metadata": {},
   "outputs": [
    {
     "data": {
      "text/plain": [
       "[5, 12, 0, 9, nan, 6, nan, 84, 40, nan, 23, 87, 26, nan, 7]"
      ]
     },
     "execution_count": 47,
     "metadata": {},
     "output_type": "execute_result"
    }
   ],
   "source": [
    "# (codealong) to do\n",
    "result = [clean_transaction_value(i) for i in transaction_messy_df['median_transaction_count']]\n",
    "result\n"
   ]
  },
  {
   "cell_type": "markdown",
   "metadata": {},
   "source": [
    "\n",
    "\n",
    "## Introduction to Pandas Grouping\n",
    "\n",
    "---\n",
    "\n",
    "### Lesson Guide\n",
    "\n",
    "- [Overview of multi-dimensional data analysis](#overview)\n",
    "- [Examples of when to group data](#grouping_examples)\n",
    "- [Load the Titanic dataset](#load_titanic)\n",
    "- [Introduction to pandas `.groupby()`](#groupby)\n",
    "- [Grouping by multiple variables](#groupby_multiple)\n",
    "- [Applying basic functions to groups](#basic_functions)\n",
    "- [Removing the hierarchical index](#removing_hierarchical)\n",
    "- [Applying custom functions with apply](#custom_functions)\n",
    "- [Plotting basic histograms with groups](#basic_plotting)\n",
    "- [Grouped histograms](#grouped_hists)\n",
    "- [Independent practice](#independent_practice)\n",
    "\n",
    "\n",
    "\n",
    "> ## The goal of grouping and aggregation is to describe segments of your data based on unique values of a feature\n"
   ]
  },
  {
   "cell_type": "markdown",
   "metadata": {},
   "source": [
    "<a id='grouping_examples'></a>\n",
    "\n",
    "### Analyzing data by group: some specific examples\n",
    "\n",
    "---\n",
    "\n",
    " - Sum of crimes by time of day in SF (morning, afternoon, night)\n",
    " - Count number of people with the same last name\n",
    " - Median number of multi-unit buildings in a region\n",
    " - Popularity of movie genres by region\n",
    " - Segmenting customers based on age, buying habbits, interests, behavior\n",
    " - Using the \"GROUP BY\" clause in a database query using SQL"
   ]
  },
  {
   "cell_type": "markdown",
   "metadata": {},
   "source": [
    "##  Example\n",
    "\n",
    "---\n",
    "\n",
    "### Count of crimes by day\n",
    "\n",
    "index| day_of_week| time_of_day | suspect_apprehended \n",
    "- |------|------|------ \n",
    "0 |   tuesday | night| 1\n",
    "1 |   friday | afternoon| 1\n",
    "2 |   thursday  | afternoon| 0\n",
    "3 |   friday  | night| 1\n",
    "4 |   friday | night| 0\n",
    "5 |   tuesday | night| 0\n",
    "6 |   thursday | morning| 1\n",
    "7 |   friday | night| 1\n",
    "\n",
    "> *Which day of the week has the most crime?*\n",
    "\n",
    "In SQL you use a `GROUP BY` statement like:\n",
    "\n",
    "```SQL\n",
    "SELECT day_of_week,\n",
    "       COUNT(*)\n",
    "FROM crimes;\n",
    "```\n",
    "\n",
    "Pandas has its own grouping and aggregation syntax:\n",
    "```python\n",
    "crime_df.groupby(\"day_of_week\").size()\n",
    "```\n",
    "\n",
    "Either of these operations would produce table something like:\n",
    "\n",
    "index| day_of_week| count\n",
    "- |------|------|------ \n",
    "0 |   tuesday | 2\n",
    "1 |   thursday | 2\n",
    "2 |   friday  | 4\n",
    "\n",
    "You can see that the resulting dataframe has **unique** values for `day_of_week` because that's the column we grouped by. The `.size()` aggregator method returns how many rows are in each group.\n",
    "\n",
    "\n",
    "### Grouping by multiple columns\n",
    "\n",
    "> *Which `day_of_week` / `time_of_day` has the highest apprehension rate?*\n",
    "\n",
    "Now we want to aggegrate on all unique combinations of both of those columns.\n",
    "\n",
    "In SQL:\n",
    "\n",
    "```SQL\n",
    "SELECT day_of_week,\n",
    "       time_of_day,\n",
    "       AVG(suspect_apprehended) AS apprehension_rate\n",
    "FROM crimes\n",
    "GROUP BY day_of_week,\n",
    "         time_of_day;\n",
    "```\n",
    "\n",
    "In Pandas:\n",
    "\n",
    "```python\n",
    "crime_df.groupby([\"day_of_week\", \"time_of_day\"])[\"apprehended\"].mean()\n",
    "```\n",
    "\n",
    "We get:\n",
    "\n",
    "index| day_of_week| time_of_day | apprehension_rate\n",
    "- |------|------|------ \n",
    "0 |   tuesday | night | 0.5 \n",
    "1 |   thursday | morning | 1\n",
    "2 |   thursday | afternoon | 0\n",
    "3 |   friday  | afternoon | 1\n",
    "4 |   friday  | night | 0.66\n"
   ]
  },
  {
   "cell_type": "markdown",
   "metadata": {},
   "source": [
    "#### Subset aggregation:\n",
    "\n",
    "This chart stratifies a single variable \"Industry\", **counting** job openings within category.\n",
    "\n",
    "![](http://www.rasmussen.edu/images/blogs/1360270834-402_Graphs_JobOpeningsByIndustry.jpg)"
   ]
  },
  {
   "cell_type": "markdown",
   "metadata": {},
   "source": [
    "#### Hierarchical aggregation\n",
    "\n",
    "This chart aggregates first by a top level group, \"industry\", and then a secondary group \"date\" within each industry.\n",
    "\n",
    "![](http://junkcharts.typepad.com/.a/6a00d8341e992c53ef0192acc65090970d-pi)"
   ]
  },
  {
   "cell_type": "markdown",
   "metadata": {},
   "source": [
    "##  Anatomy of the `groupby` statement\n",
    "\n",
    "---\n",
    "\n",
    "![](https://i.imgur.com/ZvFed5Q.png)"
   ]
  },
  {
   "cell_type": "markdown",
   "metadata": {},
   "source": [
    "<a id='load_titanic'></a>\n",
    "\n",
    "### Exploring the Titanic dataset with grouping\n",
    "\n",
    "---\n",
    "\n",
    "To explore the power of grouping with pandas we will be using [the famous Titanic dataset that can be downloaded from Kaggle](https://www.kaggle.com/c/titanic). From the competition decription:\n",
    "\n",
    ">The sinking of the RMS Titanic is one of the most infamous shipwrecks in history.  On April 15, 1912, during her maiden voyage, the Titanic sank after colliding with an iceberg, killing 1502 out of 2224 passengers and crew. This sensational tragedy shocked the international community and led to better safety regulations for ships.\n",
    "\n",
    ">One of the reasons that the shipwreck led to such loss of life was that there were not enough lifeboats for the passengers and crew. Although there was some element of luck involved in surviving the sinking, some groups of people were more likely to survive than others, such as women, children, and the upper-class.\n",
    "\n",
    "Though we will not be doing any modeling of survival rates in this lesson, there are interesting patterns to be found just by exploring descriptive statistics in cross-sections of the data."
   ]
  },
  {
   "cell_type": "markdown",
   "metadata": {},
   "source": [
    "**Load the data into pandas.**"
   ]
  },
  {
   "cell_type": "code",
   "execution_count": 71,
   "metadata": {},
   "outputs": [
    {
     "data": {
      "text/html": [
       "<div>\n",
       "<style>\n",
       "    .dataframe thead tr:only-child th {\n",
       "        text-align: right;\n",
       "    }\n",
       "\n",
       "    .dataframe thead th {\n",
       "        text-align: left;\n",
       "    }\n",
       "\n",
       "    .dataframe tbody tr th {\n",
       "        vertical-align: top;\n",
       "    }\n",
       "</style>\n",
       "<table border=\"1\" class=\"dataframe\">\n",
       "  <thead>\n",
       "    <tr style=\"text-align: right;\">\n",
       "      <th></th>\n",
       "      <th>PassengerId</th>\n",
       "      <th>Survived</th>\n",
       "      <th>Pclass</th>\n",
       "      <th>Name</th>\n",
       "      <th>Sex</th>\n",
       "      <th>Age</th>\n",
       "      <th>SibSp</th>\n",
       "      <th>Parch</th>\n",
       "      <th>Fare</th>\n",
       "      <th>Embarked</th>\n",
       "    </tr>\n",
       "  </thead>\n",
       "  <tbody>\n",
       "    <tr>\n",
       "      <th>0</th>\n",
       "      <td>1</td>\n",
       "      <td>0</td>\n",
       "      <td>3</td>\n",
       "      <td>Braund, Mr. Owen Harris</td>\n",
       "      <td>male</td>\n",
       "      <td>22.0</td>\n",
       "      <td>1</td>\n",
       "      <td>0</td>\n",
       "      <td>7.2500</td>\n",
       "      <td>S</td>\n",
       "    </tr>\n",
       "    <tr>\n",
       "      <th>1</th>\n",
       "      <td>2</td>\n",
       "      <td>1</td>\n",
       "      <td>1</td>\n",
       "      <td>Cumings, Mrs. John Bradley (Florence Briggs Th...</td>\n",
       "      <td>female</td>\n",
       "      <td>38.0</td>\n",
       "      <td>1</td>\n",
       "      <td>0</td>\n",
       "      <td>71.2833</td>\n",
       "      <td>C</td>\n",
       "    </tr>\n",
       "    <tr>\n",
       "      <th>2</th>\n",
       "      <td>3</td>\n",
       "      <td>1</td>\n",
       "      <td>3</td>\n",
       "      <td>Heikkinen, Miss. Laina</td>\n",
       "      <td>female</td>\n",
       "      <td>26.0</td>\n",
       "      <td>0</td>\n",
       "      <td>0</td>\n",
       "      <td>7.9250</td>\n",
       "      <td>S</td>\n",
       "    </tr>\n",
       "    <tr>\n",
       "      <th>3</th>\n",
       "      <td>4</td>\n",
       "      <td>1</td>\n",
       "      <td>1</td>\n",
       "      <td>Futrelle, Mrs. Jacques Heath (Lily May Peel)</td>\n",
       "      <td>female</td>\n",
       "      <td>35.0</td>\n",
       "      <td>1</td>\n",
       "      <td>0</td>\n",
       "      <td>53.1000</td>\n",
       "      <td>S</td>\n",
       "    </tr>\n",
       "    <tr>\n",
       "      <th>4</th>\n",
       "      <td>5</td>\n",
       "      <td>0</td>\n",
       "      <td>3</td>\n",
       "      <td>Allen, Mr. William Henry</td>\n",
       "      <td>male</td>\n",
       "      <td>35.0</td>\n",
       "      <td>0</td>\n",
       "      <td>0</td>\n",
       "      <td>8.0500</td>\n",
       "      <td>S</td>\n",
       "    </tr>\n",
       "  </tbody>\n",
       "</table>\n",
       "</div>"
      ],
      "text/plain": [
       "   PassengerId  Survived  Pclass  \\\n",
       "0            1         0       3   \n",
       "1            2         1       1   \n",
       "2            3         1       3   \n",
       "3            4         1       1   \n",
       "4            5         0       3   \n",
       "\n",
       "                                                Name     Sex   Age  SibSp  \\\n",
       "0                            Braund, Mr. Owen Harris    male  22.0      1   \n",
       "1  Cumings, Mrs. John Bradley (Florence Briggs Th...  female  38.0      1   \n",
       "2                             Heikkinen, Miss. Laina  female  26.0      0   \n",
       "3       Futrelle, Mrs. Jacques Heath (Lily May Peel)  female  35.0      1   \n",
       "4                           Allen, Mr. William Henry    male  35.0      0   \n",
       "\n",
       "   Parch     Fare Embarked  \n",
       "0      0   7.2500        S  \n",
       "1      0  71.2833        C  \n",
       "2      0   7.9250        S  \n",
       "3      0  53.1000        S  \n",
       "4      0   8.0500        S  "
      ]
     },
     "execution_count": 71,
     "metadata": {},
     "output_type": "execute_result"
    }
   ],
   "source": [
    "path_to_file = './datasets/titanic_clean.csv'\n",
    "titanic = pd.read_csv(path_to_file)\n",
    "titanic.head()"
   ]
  },
  {
   "cell_type": "markdown",
   "metadata": {},
   "source": [
    "The data contains a variety of information about passengers involved in the sinking of the Titanic.\n",
    "\n",
    "**Describe the data in the columns with summary statistics.**"
   ]
  },
  {
   "cell_type": "code",
   "execution_count": 72,
   "metadata": {},
   "outputs": [
    {
     "name": "stdout",
     "output_type": "stream",
     "text": [
      "<class 'pandas.core.frame.DataFrame'>\n",
      "RangeIndex: 712 entries, 0 to 711\n",
      "Data columns (total 10 columns):\n",
      "PassengerId    712 non-null int64\n",
      "Survived       712 non-null int64\n",
      "Pclass         712 non-null int64\n",
      "Name           712 non-null object\n",
      "Sex            712 non-null object\n",
      "Age            712 non-null float64\n",
      "SibSp          712 non-null int64\n",
      "Parch          712 non-null int64\n",
      "Fare           712 non-null float64\n",
      "Embarked       712 non-null object\n",
      "dtypes: float64(2), int64(5), object(3)\n",
      "memory usage: 55.7+ KB\n"
     ]
    }
   ],
   "source": [
    "titanic.info()"
   ]
  },
  {
   "cell_type": "markdown",
   "metadata": {},
   "source": [
    "<a id='groupby'></a>\n",
    "\n",
    "### Intro to `.groupby()` in pandas\n",
    "\n",
    "---\n",
    "\n",
    "The built-in `.groupby()` functions for dataframes is one of the most useful tools in pandas. As the name implies, `.groupby` will group your dataset by one or more user-specified column names.\n",
    "\n",
    "**Using `.groupby`, create a grouped dataframe where the titanic dataset is grouped by \"Pclass\".**"
   ]
  },
  {
   "cell_type": "code",
   "execution_count": 77,
   "metadata": {},
   "outputs": [],
   "source": [
    "df_1 = titanic.groupby(\"Pclass\")"
   ]
  },
  {
   "cell_type": "markdown",
   "metadata": {},
   "source": [
    "**Print out the type of the grouped dataframe.**"
   ]
  },
  {
   "cell_type": "code",
   "execution_count": 78,
   "metadata": {},
   "outputs": [
    {
     "name": "stdout",
     "output_type": "stream",
     "text": [
      "group_type 1\n",
      "head     PassengerId  Survived  Pclass  \\\n",
      "1             2         1       1   \n",
      "3             4         1       1   \n",
      "5             7         0       1   \n",
      "10           12         1       1   \n",
      "20           24         1       1   \n",
      "\n",
      "                                                 Name     Sex   Age  SibSp  \\\n",
      "1   Cumings, Mrs. John Bradley (Florence Briggs Th...  female  38.0      1   \n",
      "3        Futrelle, Mrs. Jacques Heath (Lily May Peel)  female  35.0      1   \n",
      "5                             McCarthy, Mr. Timothy J    male  54.0      0   \n",
      "10                           Bonnell, Miss. Elizabeth  female  58.0      0   \n",
      "20                       Sloper, Mr. William Thompson    male  28.0      0   \n",
      "\n",
      "    Parch     Fare Embarked  \n",
      "1       0  71.2833        C  \n",
      "3       0  53.1000        S  \n",
      "5       0  51.8625        S  \n",
      "10      0  26.5500        S  \n",
      "20      0  35.5000        S  \n",
      "---------------\n",
      "group_type 2\n",
      "head     PassengerId  Survived  Pclass                                 Name  \\\n",
      "8            10         1       2  Nasser, Mrs. Nicholas (Adele Achem)   \n",
      "14           16         1       2     Hewlett, Mrs. (Mary D Kingcome)    \n",
      "17           21         0       2                 Fynney, Mr. Joseph J   \n",
      "18           22         1       2                Beesley, Mr. Lawrence   \n",
      "25           34         0       2                Wheadon, Mr. Edward H   \n",
      "\n",
      "       Sex   Age  SibSp  Parch     Fare Embarked  \n",
      "8   female  14.0      1      0  30.0708        C  \n",
      "14  female  55.0      0      0  16.0000        S  \n",
      "17    male  35.0      0      0  26.0000        S  \n",
      "18    male  34.0      0      0  13.0000        S  \n",
      "25    male  66.0      0      0  10.5000        S  \n",
      "---------------\n",
      "group_type 3\n",
      "head    PassengerId  Survived  Pclass  \\\n",
      "0            1         0       3   \n",
      "2            3         1       3   \n",
      "4            5         0       3   \n",
      "6            8         0       3   \n",
      "7            9         1       3   \n",
      "\n",
      "                                                Name     Sex   Age  SibSp  \\\n",
      "0                            Braund, Mr. Owen Harris    male  22.0      1   \n",
      "2                             Heikkinen, Miss. Laina  female  26.0      0   \n",
      "4                           Allen, Mr. William Henry    male  35.0      0   \n",
      "6                     Palsson, Master. Gosta Leonard    male   2.0      3   \n",
      "7  Johnson, Mrs. Oscar W (Elisabeth Vilhelmina Berg)  female  27.0      0   \n",
      "\n",
      "   Parch     Fare Embarked  \n",
      "0      0   7.2500        S  \n",
      "2      0   7.9250        S  \n",
      "4      0   8.0500        S  \n",
      "6      1  21.0750        S  \n",
      "7      2  11.1333        S  \n",
      "---------------\n"
     ]
    }
   ],
   "source": [
    "for group in df_1:\n",
    "    print(\"group_type\",group[0])\n",
    "    print(\"head\",group[1].head())\n",
    "    print('---------------')"
   ]
  },
  {
   "cell_type": "code",
   "execution_count": 76,
   "metadata": {},
   "outputs": [
    {
     "data": {
      "text/plain": [
       "pandas.core.groupby.DataFrameGroupBy"
      ]
     },
     "execution_count": 76,
     "metadata": {},
     "output_type": "execute_result"
    }
   ],
   "source": [
    "\n",
    "\n",
    "type(titanic.groupby(\"Pclass\"))"
   ]
  },
  {
   "cell_type": "markdown",
   "metadata": {},
   "source": [
    "Instead of a `DataFrame` object we now have a `DataFrameGroupBy` object. This operates somewhat differently than the DataFrame we are used to, as we shall see.\n",
    "\n",
    "**Try pulling out the first group from the grouped dataframe with index 0.**"
   ]
  },
  {
   "cell_type": "code",
   "execution_count": null,
   "metadata": {
    "collapsed": true
   },
   "outputs": [],
   "source": []
  },
  {
   "cell_type": "markdown",
   "metadata": {},
   "source": [
    "Grouped dataframes do not work the same as python lists. You can't pull out the different groups with indexers. Despite this, grouped dataframe objects **are** iterable! You can step through them using a for-loop, for example.\n",
    "\n",
    "In our grouped dataframe, each element will be a tuple containing the Pclass group as its first element, and the subset of the original titanic dataframe for that Pclass as it's second element.\n",
    "\n",
    "**Write a for-loop to iterate through the grouped dataframe, printing out the PClass and the header of the subset each time.**"
   ]
  },
  {
   "cell_type": "code",
   "execution_count": null,
   "metadata": {
    "collapsed": true
   },
   "outputs": [],
   "source": [
    "for group in df_1:\n",
    "    print(\"group_type\",group[0])\n",
    "    print(\"head\",group[1].head())\n",
    "    print('---------------')"
   ]
  },
  {
   "cell_type": "markdown",
   "metadata": {},
   "source": [
    "<a id='groupby_multiple'></a>\n",
    "\n",
    "### Grouping by multiple fields\n",
    "\n",
    "---\n",
    "\n",
    "Grouping by more than one column is simple. The `.groupby()` function can take a list of column names to group by. When you group by more than one column, each subset of the data will correspond to one of the distinct combinations of the grouping columns.\n",
    "\n",
    "**Create a grouped dataframe by grouping the titanic data by \"Pclass\" and \"Survived\".**"
   ]
  },
  {
   "cell_type": "code",
   "execution_count": 79,
   "metadata": {},
   "outputs": [
    {
     "data": {
      "text/plain": [
       "<pandas.core.groupby.DataFrameGroupBy object at 0x11cdb0be0>"
      ]
     },
     "execution_count": 79,
     "metadata": {},
     "output_type": "execute_result"
    }
   ],
   "source": [
    "titanic.groupby(['Pclass','Survived'])"
   ]
  },
  {
   "cell_type": "markdown",
   "metadata": {},
   "source": [
    "**Print out the length of this grouped dataframe.**\n",
    "\n",
    "It is the same length as unique combinations of Pclass and Survied: 3 Pclasses by 2 Survival values."
   ]
  },
  {
   "cell_type": "code",
   "execution_count": 80,
   "metadata": {},
   "outputs": [
    {
     "data": {
      "text/plain": [
       "6"
      ]
     },
     "execution_count": 80,
     "metadata": {},
     "output_type": "execute_result"
    }
   ],
   "source": [
    "len(titanic.groupby(['Pclass','Survived']))"
   ]
  },
  {
   "cell_type": "markdown",
   "metadata": {},
   "source": [
    "<a id='basic_functions'></a>\n",
    "\n",
    "### Applying basic functions to groups\n",
    "\n",
    "---\n",
    "\n",
    "Pandas makes it easy to apply basic statistical functions to the grouped data with built-in functions. For example, if you have a grouped dataframe `grouped`:\n",
    "\n",
    "```python\n",
    "print group.mean()\n",
    "print group.median()\n",
    "print group.count()\n",
    "print group.max()\n",
    "```\n",
    "\n",
    "We can get the mean, median, count, and max of the columns by group. \n",
    "\n",
    "**Try out these built in functions on the grouped data you made above.**"
   ]
  },
  {
   "cell_type": "code",
   "execution_count": 81,
   "metadata": {},
   "outputs": [
    {
     "data": {
      "text/html": [
       "<div>\n",
       "<style>\n",
       "    .dataframe thead tr:only-child th {\n",
       "        text-align: right;\n",
       "    }\n",
       "\n",
       "    .dataframe thead th {\n",
       "        text-align: left;\n",
       "    }\n",
       "\n",
       "    .dataframe tbody tr th {\n",
       "        vertical-align: top;\n",
       "    }\n",
       "</style>\n",
       "<table border=\"1\" class=\"dataframe\">\n",
       "  <thead>\n",
       "    <tr style=\"text-align: right;\">\n",
       "      <th></th>\n",
       "      <th>PassengerId</th>\n",
       "      <th>Survived</th>\n",
       "      <th>Age</th>\n",
       "      <th>SibSp</th>\n",
       "      <th>Parch</th>\n",
       "      <th>Fare</th>\n",
       "    </tr>\n",
       "    <tr>\n",
       "      <th>Pclass</th>\n",
       "      <th></th>\n",
       "      <th></th>\n",
       "      <th></th>\n",
       "      <th></th>\n",
       "      <th></th>\n",
       "      <th></th>\n",
       "    </tr>\n",
       "  </thead>\n",
       "  <tbody>\n",
       "    <tr>\n",
       "      <th>1</th>\n",
       "      <td>464.157609</td>\n",
       "      <td>0.652174</td>\n",
       "      <td>38.105543</td>\n",
       "      <td>0.456522</td>\n",
       "      <td>0.413043</td>\n",
       "      <td>88.048121</td>\n",
       "    </tr>\n",
       "    <tr>\n",
       "      <th>2</th>\n",
       "      <td>447.156069</td>\n",
       "      <td>0.479769</td>\n",
       "      <td>29.877630</td>\n",
       "      <td>0.427746</td>\n",
       "      <td>0.404624</td>\n",
       "      <td>21.471556</td>\n",
       "    </tr>\n",
       "    <tr>\n",
       "      <th>3</th>\n",
       "      <td>441.219718</td>\n",
       "      <td>0.239437</td>\n",
       "      <td>25.140620</td>\n",
       "      <td>0.585915</td>\n",
       "      <td>0.456338</td>\n",
       "      <td>13.229435</td>\n",
       "    </tr>\n",
       "  </tbody>\n",
       "</table>\n",
       "</div>"
      ],
      "text/plain": [
       "        PassengerId  Survived        Age     SibSp     Parch       Fare\n",
       "Pclass                                                                 \n",
       "1        464.157609  0.652174  38.105543  0.456522  0.413043  88.048121\n",
       "2        447.156069  0.479769  29.877630  0.427746  0.404624  21.471556\n",
       "3        441.219718  0.239437  25.140620  0.585915  0.456338  13.229435"
      ]
     },
     "execution_count": 81,
     "metadata": {},
     "output_type": "execute_result"
    }
   ],
   "source": [
    "df_1.mean()"
   ]
  },
  {
   "cell_type": "code",
   "execution_count": null,
   "metadata": {
    "collapsed": true
   },
   "outputs": [],
   "source": []
  },
  {
   "cell_type": "markdown",
   "metadata": {},
   "source": [
    "You can also operate on single columns or subsets of columns across grouped dataframes using the indexing syntax for standard dataframes.\n",
    "\n",
    "**Find the percent of passengers who survived by where they embarked.**"
   ]
  },
  {
   "cell_type": "code",
   "execution_count": 82,
   "metadata": {},
   "outputs": [
    {
     "data": {
      "text/plain": [
       "Embarked\n",
       "C    0.607692\n",
       "Q    0.285714\n",
       "S    0.362816\n",
       "Name: Survived, dtype: float64"
      ]
     },
     "execution_count": 82,
     "metadata": {},
     "output_type": "execute_result"
    }
   ],
   "source": [
    "titanic.groupby('Embarked')['Survived'].mean()"
   ]
  },
  {
   "cell_type": "markdown",
   "metadata": {},
   "source": [
    "**Find the average fare and age grouped by the location embarked and the class.**"
   ]
  },
  {
   "cell_type": "code",
   "execution_count": 86,
   "metadata": {},
   "outputs": [],
   "source": [
    "emb_class_group = titanic.groupby(['Embarked','Pclass'])[['Fare','Age']].mean()"
   ]
  },
  {
   "cell_type": "markdown",
   "metadata": {},
   "source": [
    "<a id='removing_hierarchical'></a>\n",
    "\n",
    "### Removing the hierarchical index\n",
    "\n",
    "---\n",
    "\n",
    "By default pandas will give you back your groups in a hierarchical index format. If this is not preferable to you, you can use the `.reset_index()` function to take your row labels and convert them into columns.\n",
    "\n",
    "**Remove the hierarchical index for the average fare and age dataset you just created, converting Embarked and Pclass to columns.**"
   ]
  },
  {
   "cell_type": "code",
   "execution_count": 87,
   "metadata": {},
   "outputs": [
    {
     "data": {
      "text/html": [
       "<div>\n",
       "<style>\n",
       "    .dataframe thead tr:only-child th {\n",
       "        text-align: right;\n",
       "    }\n",
       "\n",
       "    .dataframe thead th {\n",
       "        text-align: left;\n",
       "    }\n",
       "\n",
       "    .dataframe tbody tr th {\n",
       "        vertical-align: top;\n",
       "    }\n",
       "</style>\n",
       "<table border=\"1\" class=\"dataframe\">\n",
       "  <thead>\n",
       "    <tr style=\"text-align: right;\">\n",
       "      <th></th>\n",
       "      <th>Embarked</th>\n",
       "      <th>Pclass</th>\n",
       "      <th>Fare</th>\n",
       "      <th>Age</th>\n",
       "    </tr>\n",
       "  </thead>\n",
       "  <tbody>\n",
       "    <tr>\n",
       "      <th>0</th>\n",
       "      <td>C</td>\n",
       "      <td>1</td>\n",
       "      <td>108.246399</td>\n",
       "      <td>38.027027</td>\n",
       "    </tr>\n",
       "    <tr>\n",
       "      <th>1</th>\n",
       "      <td>C</td>\n",
       "      <td>2</td>\n",
       "      <td>26.811947</td>\n",
       "      <td>22.766667</td>\n",
       "    </tr>\n",
       "    <tr>\n",
       "      <th>2</th>\n",
       "      <td>C</td>\n",
       "      <td>3</td>\n",
       "      <td>11.369927</td>\n",
       "      <td>20.741951</td>\n",
       "    </tr>\n",
       "    <tr>\n",
       "      <th>3</th>\n",
       "      <td>Q</td>\n",
       "      <td>1</td>\n",
       "      <td>90.000000</td>\n",
       "      <td>38.500000</td>\n",
       "    </tr>\n",
       "    <tr>\n",
       "      <th>4</th>\n",
       "      <td>Q</td>\n",
       "      <td>2</td>\n",
       "      <td>12.350000</td>\n",
       "      <td>43.500000</td>\n",
       "    </tr>\n",
       "    <tr>\n",
       "      <th>5</th>\n",
       "      <td>Q</td>\n",
       "      <td>3</td>\n",
       "      <td>12.780904</td>\n",
       "      <td>25.937500</td>\n",
       "    </tr>\n",
       "    <tr>\n",
       "      <th>6</th>\n",
       "      <td>S</td>\n",
       "      <td>1</td>\n",
       "      <td>74.172415</td>\n",
       "      <td>38.152037</td>\n",
       "    </tr>\n",
       "    <tr>\n",
       "      <th>7</th>\n",
       "      <td>S</td>\n",
       "      <td>2</td>\n",
       "      <td>21.075000</td>\n",
       "      <td>30.386731</td>\n",
       "    </tr>\n",
       "    <tr>\n",
       "      <th>8</th>\n",
       "      <td>S</td>\n",
       "      <td>3</td>\n",
       "      <td>13.529451</td>\n",
       "      <td>25.696552</td>\n",
       "    </tr>\n",
       "  </tbody>\n",
       "</table>\n",
       "</div>"
      ],
      "text/plain": [
       "  Embarked  Pclass        Fare        Age\n",
       "0        C       1  108.246399  38.027027\n",
       "1        C       2   26.811947  22.766667\n",
       "2        C       3   11.369927  20.741951\n",
       "3        Q       1   90.000000  38.500000\n",
       "4        Q       2   12.350000  43.500000\n",
       "5        Q       3   12.780904  25.937500\n",
       "6        S       1   74.172415  38.152037\n",
       "7        S       2   21.075000  30.386731\n",
       "8        S       3   13.529451  25.696552"
      ]
     },
     "execution_count": 87,
     "metadata": {},
     "output_type": "execute_result"
    }
   ],
   "source": [
    "emb_class_group.reset_index()"
   ]
  },
  {
   "cell_type": "markdown",
   "metadata": {},
   "source": [
    "<a id='custom_functions'></a>\n",
    "\n",
    "### Applying your own functions to groups with `.apply()`\n",
    "\n",
    "---\n",
    "\n",
    "While pandas does contain a variety of useful built-in summary functions, it is common that you will need to apply a custom function to the data in your groups. \n",
    "\n",
    "The `.apply()` function takes a function as an argument and applies it to the subsets of data in your dataframe groups.\n",
    "\n",
    "**See what happens when you replace the built-in `.mean()` function with a `.apply(np.mean)` for the question above.**"
   ]
  },
  {
   "cell_type": "code",
   "execution_count": 88,
   "metadata": {},
   "outputs": [
    {
     "data": {
      "text/html": [
       "<div>\n",
       "<style>\n",
       "    .dataframe thead tr:only-child th {\n",
       "        text-align: right;\n",
       "    }\n",
       "\n",
       "    .dataframe thead th {\n",
       "        text-align: left;\n",
       "    }\n",
       "\n",
       "    .dataframe tbody tr th {\n",
       "        vertical-align: top;\n",
       "    }\n",
       "</style>\n",
       "<table border=\"1\" class=\"dataframe\">\n",
       "  <thead>\n",
       "    <tr style=\"text-align: right;\">\n",
       "      <th></th>\n",
       "      <th></th>\n",
       "      <th>Fare</th>\n",
       "      <th>Age</th>\n",
       "    </tr>\n",
       "    <tr>\n",
       "      <th>Embarked</th>\n",
       "      <th>Pclass</th>\n",
       "      <th></th>\n",
       "      <th></th>\n",
       "    </tr>\n",
       "  </thead>\n",
       "  <tbody>\n",
       "    <tr>\n",
       "      <th rowspan=\"3\" valign=\"top\">C</th>\n",
       "      <th>1</th>\n",
       "      <td>108.246399</td>\n",
       "      <td>38.027027</td>\n",
       "    </tr>\n",
       "    <tr>\n",
       "      <th>2</th>\n",
       "      <td>26.811947</td>\n",
       "      <td>22.766667</td>\n",
       "    </tr>\n",
       "    <tr>\n",
       "      <th>3</th>\n",
       "      <td>11.369927</td>\n",
       "      <td>20.741951</td>\n",
       "    </tr>\n",
       "    <tr>\n",
       "      <th rowspan=\"3\" valign=\"top\">Q</th>\n",
       "      <th>1</th>\n",
       "      <td>90.000000</td>\n",
       "      <td>38.500000</td>\n",
       "    </tr>\n",
       "    <tr>\n",
       "      <th>2</th>\n",
       "      <td>12.350000</td>\n",
       "      <td>43.500000</td>\n",
       "    </tr>\n",
       "    <tr>\n",
       "      <th>3</th>\n",
       "      <td>12.780904</td>\n",
       "      <td>25.937500</td>\n",
       "    </tr>\n",
       "    <tr>\n",
       "      <th rowspan=\"3\" valign=\"top\">S</th>\n",
       "      <th>1</th>\n",
       "      <td>74.172415</td>\n",
       "      <td>38.152037</td>\n",
       "    </tr>\n",
       "    <tr>\n",
       "      <th>2</th>\n",
       "      <td>21.075000</td>\n",
       "      <td>30.386731</td>\n",
       "    </tr>\n",
       "    <tr>\n",
       "      <th>3</th>\n",
       "      <td>13.529451</td>\n",
       "      <td>25.696552</td>\n",
       "    </tr>\n",
       "  </tbody>\n",
       "</table>\n",
       "</div>"
      ],
      "text/plain": [
       "                       Fare        Age\n",
       "Embarked Pclass                       \n",
       "C        1       108.246399  38.027027\n",
       "         2        26.811947  22.766667\n",
       "         3        11.369927  20.741951\n",
       "Q        1        90.000000  38.500000\n",
       "         2        12.350000  43.500000\n",
       "         3        12.780904  25.937500\n",
       "S        1        74.172415  38.152037\n",
       "         2        21.075000  30.386731\n",
       "         3        13.529451  25.696552"
      ]
     },
     "execution_count": 88,
     "metadata": {},
     "output_type": "execute_result"
    }
   ],
   "source": [
    "titanic.groupby(['Embarked','Pclass'])[['Fare','Age']].apply(np.mean)"
   ]
  },
  {
   "cell_type": "markdown",
   "metadata": {},
   "source": [
    "Say we wanted to have the mean of fare and age per embarked and pclass, but we wanted the numbers to be rounded. One way to do this would be to round the columns after we had applied the mean function as we did above. \n",
    "\n",
    "Another way would be to write a custom function to pass into apply. *The function passed to `.apply()` will be run on all of the subsets of data.*\n",
    "\n",
    "**<font color=blue>(Independent)</font> Write a function that will take the mean of a pandas Series and round the value.**"
   ]
  },
  {
   "cell_type": "code",
   "execution_count": 92,
   "metadata": {},
   "outputs": [],
   "source": [
    "def round_value(group):\n",
    "    mean = group.mean()\n",
    "    return round(mean)"
   ]
  },
  {
   "cell_type": "markdown",
   "metadata": {},
   "source": [
    "**Apply your custom function to the grouped data.**"
   ]
  },
  {
   "cell_type": "code",
   "execution_count": 93,
   "metadata": {},
   "outputs": [
    {
     "data": {
      "text/html": [
       "<div>\n",
       "<style>\n",
       "    .dataframe thead tr:only-child th {\n",
       "        text-align: right;\n",
       "    }\n",
       "\n",
       "    .dataframe thead th {\n",
       "        text-align: left;\n",
       "    }\n",
       "\n",
       "    .dataframe tbody tr th {\n",
       "        vertical-align: top;\n",
       "    }\n",
       "</style>\n",
       "<table border=\"1\" class=\"dataframe\">\n",
       "  <thead>\n",
       "    <tr style=\"text-align: right;\">\n",
       "      <th></th>\n",
       "      <th></th>\n",
       "      <th>Fare</th>\n",
       "      <th>Age</th>\n",
       "    </tr>\n",
       "    <tr>\n",
       "      <th>Embarked</th>\n",
       "      <th>Pclass</th>\n",
       "      <th></th>\n",
       "      <th></th>\n",
       "    </tr>\n",
       "  </thead>\n",
       "  <tbody>\n",
       "    <tr>\n",
       "      <th rowspan=\"3\" valign=\"top\">C</th>\n",
       "      <th>1</th>\n",
       "      <td>108.0</td>\n",
       "      <td>38.0</td>\n",
       "    </tr>\n",
       "    <tr>\n",
       "      <th>2</th>\n",
       "      <td>27.0</td>\n",
       "      <td>23.0</td>\n",
       "    </tr>\n",
       "    <tr>\n",
       "      <th>3</th>\n",
       "      <td>11.0</td>\n",
       "      <td>21.0</td>\n",
       "    </tr>\n",
       "    <tr>\n",
       "      <th rowspan=\"3\" valign=\"top\">Q</th>\n",
       "      <th>1</th>\n",
       "      <td>90.0</td>\n",
       "      <td>38.0</td>\n",
       "    </tr>\n",
       "    <tr>\n",
       "      <th>2</th>\n",
       "      <td>12.0</td>\n",
       "      <td>44.0</td>\n",
       "    </tr>\n",
       "    <tr>\n",
       "      <th>3</th>\n",
       "      <td>13.0</td>\n",
       "      <td>26.0</td>\n",
       "    </tr>\n",
       "    <tr>\n",
       "      <th rowspan=\"3\" valign=\"top\">S</th>\n",
       "      <th>1</th>\n",
       "      <td>74.0</td>\n",
       "      <td>38.0</td>\n",
       "    </tr>\n",
       "    <tr>\n",
       "      <th>2</th>\n",
       "      <td>21.0</td>\n",
       "      <td>30.0</td>\n",
       "    </tr>\n",
       "    <tr>\n",
       "      <th>3</th>\n",
       "      <td>14.0</td>\n",
       "      <td>26.0</td>\n",
       "    </tr>\n",
       "  </tbody>\n",
       "</table>\n",
       "</div>"
      ],
      "text/plain": [
       "                  Fare   Age\n",
       "Embarked Pclass             \n",
       "C        1       108.0  38.0\n",
       "         2        27.0  23.0\n",
       "         3        11.0  21.0\n",
       "Q        1        90.0  38.0\n",
       "         2        12.0  44.0\n",
       "         3        13.0  26.0\n",
       "S        1        74.0  38.0\n",
       "         2        21.0  30.0\n",
       "         3        14.0  26.0"
      ]
     },
     "execution_count": 93,
     "metadata": {},
     "output_type": "execute_result"
    }
   ],
   "source": [
    "titanic.groupby(['Embarked','Pclass'])[['Fare','Age']].apply(round_value)"
   ]
  },
  {
   "cell_type": "markdown",
   "metadata": {},
   "source": [
    "<a id='basic_plotting'></a>\n",
    "\n",
    "### Basic pandas histograms with grouped data\n",
    "\n",
    "---\n",
    "\n",
    "We can leverage the power of pandas even more by mixing its plotting capabilities with its grouping capabilities.\n",
    "\n",
    "**First find the number of passengers per PClass by using `.groupby` and `.size`.**"
   ]
  },
  {
   "cell_type": "code",
   "execution_count": 99,
   "metadata": {},
   "outputs": [
    {
     "data": {
      "text/plain": [
       "Pclass\n",
       "1    184\n",
       "2    173\n",
       "3    355\n",
       "dtype: int64"
      ]
     },
     "execution_count": 99,
     "metadata": {},
     "output_type": "execute_result"
    }
   ],
   "source": [
    "hist = titanic.groupby('Pclass').size()\n",
    "hist"
   ]
  },
  {
   "cell_type": "markdown",
   "metadata": {},
   "source": [
    "Here we have a series object with the counts of passengers per class group. It is simple to get a histogram of these counts by appending `.plot(kind=\"bar\", color=\"g\", width=0.85)`."
   ]
  },
  {
   "cell_type": "code",
   "execution_count": 96,
   "metadata": {},
   "outputs": [
    {
     "data": {
      "text/plain": [
       "<matplotlib.axes._subplots.AxesSubplot at 0x11ce7b3c8>"
      ]
     },
     "execution_count": 96,
     "metadata": {},
     "output_type": "execute_result"
    },
    {
     "data": {
      "image/png": "[encoded data removed]",
      "text/plain": [
       "<matplotlib.figure.Figure at 0x11ce7ba90>"
      ]
     },
     "metadata": {
      "image/png": {
       "height": 254,
       "width": 369
      }
     },
     "output_type": "display_data"
    }
   ],
   "source": [
    "hist.plot(kind ='bar', color ='g', width=0.85)"
   ]
  },
  {
   "cell_type": "markdown",
   "metadata": {},
   "source": [
    "**<font color=blue>(Independent)</font> Plot the average fare per sex and class as a barplot.**"
   ]
  },
  {
   "cell_type": "code",
   "execution_count": 100,
   "metadata": {},
   "outputs": [
    {
     "data": {
      "text/html": [
       "<div>\n",
       "<style>\n",
       "    .dataframe thead tr:only-child th {\n",
       "        text-align: right;\n",
       "    }\n",
       "\n",
       "    .dataframe thead th {\n",
       "        text-align: left;\n",
       "    }\n",
       "\n",
       "    .dataframe tbody tr th {\n",
       "        vertical-align: top;\n",
       "    }\n",
       "</style>\n",
       "<table border=\"1\" class=\"dataframe\">\n",
       "  <thead>\n",
       "    <tr style=\"text-align: right;\">\n",
       "      <th></th>\n",
       "      <th>PassengerId</th>\n",
       "      <th>Survived</th>\n",
       "      <th>Pclass</th>\n",
       "      <th>Name</th>\n",
       "      <th>Sex</th>\n",
       "      <th>Age</th>\n",
       "      <th>SibSp</th>\n",
       "      <th>Parch</th>\n",
       "      <th>Fare</th>\n",
       "      <th>Embarked</th>\n",
       "    </tr>\n",
       "  </thead>\n",
       "  <tbody>\n",
       "    <tr>\n",
       "      <th>0</th>\n",
       "      <td>1</td>\n",
       "      <td>0</td>\n",
       "      <td>3</td>\n",
       "      <td>Braund, Mr. Owen Harris</td>\n",
       "      <td>male</td>\n",
       "      <td>22.0</td>\n",
       "      <td>1</td>\n",
       "      <td>0</td>\n",
       "      <td>7.2500</td>\n",
       "      <td>S</td>\n",
       "    </tr>\n",
       "    <tr>\n",
       "      <th>1</th>\n",
       "      <td>2</td>\n",
       "      <td>1</td>\n",
       "      <td>1</td>\n",
       "      <td>Cumings, Mrs. John Bradley (Florence Briggs Th...</td>\n",
       "      <td>female</td>\n",
       "      <td>38.0</td>\n",
       "      <td>1</td>\n",
       "      <td>0</td>\n",
       "      <td>71.2833</td>\n",
       "      <td>C</td>\n",
       "    </tr>\n",
       "    <tr>\n",
       "      <th>2</th>\n",
       "      <td>3</td>\n",
       "      <td>1</td>\n",
       "      <td>3</td>\n",
       "      <td>Heikkinen, Miss. Laina</td>\n",
       "      <td>female</td>\n",
       "      <td>26.0</td>\n",
       "      <td>0</td>\n",
       "      <td>0</td>\n",
       "      <td>7.9250</td>\n",
       "      <td>S</td>\n",
       "    </tr>\n",
       "    <tr>\n",
       "      <th>3</th>\n",
       "      <td>4</td>\n",
       "      <td>1</td>\n",
       "      <td>1</td>\n",
       "      <td>Futrelle, Mrs. Jacques Heath (Lily May Peel)</td>\n",
       "      <td>female</td>\n",
       "      <td>35.0</td>\n",
       "      <td>1</td>\n",
       "      <td>0</td>\n",
       "      <td>53.1000</td>\n",
       "      <td>S</td>\n",
       "    </tr>\n",
       "    <tr>\n",
       "      <th>4</th>\n",
       "      <td>5</td>\n",
       "      <td>0</td>\n",
       "      <td>3</td>\n",
       "      <td>Allen, Mr. William Henry</td>\n",
       "      <td>male</td>\n",
       "      <td>35.0</td>\n",
       "      <td>0</td>\n",
       "      <td>0</td>\n",
       "      <td>8.0500</td>\n",
       "      <td>S</td>\n",
       "    </tr>\n",
       "  </tbody>\n",
       "</table>\n",
       "</div>"
      ],
      "text/plain": [
       "   PassengerId  Survived  Pclass  \\\n",
       "0            1         0       3   \n",
       "1            2         1       1   \n",
       "2            3         1       3   \n",
       "3            4         1       1   \n",
       "4            5         0       3   \n",
       "\n",
       "                                                Name     Sex   Age  SibSp  \\\n",
       "0                            Braund, Mr. Owen Harris    male  22.0      1   \n",
       "1  Cumings, Mrs. John Bradley (Florence Briggs Th...  female  38.0      1   \n",
       "2                             Heikkinen, Miss. Laina  female  26.0      0   \n",
       "3       Futrelle, Mrs. Jacques Heath (Lily May Peel)  female  35.0      1   \n",
       "4                           Allen, Mr. William Henry    male  35.0      0   \n",
       "\n",
       "   Parch     Fare Embarked  \n",
       "0      0   7.2500        S  \n",
       "1      0  71.2833        C  \n",
       "2      0   7.9250        S  \n",
       "3      0  53.1000        S  \n",
       "4      0   8.0500        S  "
      ]
     },
     "execution_count": 100,
     "metadata": {},
     "output_type": "execute_result"
    }
   ],
   "source": [
    "titanic.head()"
   ]
  },
  {
   "cell_type": "code",
   "execution_count": 102,
   "metadata": {},
   "outputs": [
    {
     "data": {
      "text/plain": [
       "<matplotlib.axes._subplots.AxesSubplot at 0x120632f28>"
      ]
     },
     "execution_count": 102,
     "metadata": {},
     "output_type": "execute_result"
    },
    {
     "data": {
      "image/png": "[encoded data removed]",
      "text/plain": [
       "<matplotlib.figure.Figure at 0x1206659e8>"
      ]
     },
     "metadata": {
      "image/png": {
       "height": 296,
       "width": 369
      }
     },
     "output_type": "display_data"
    }
   ],
   "source": [
    "titanic.groupby(['Sex','Pclass'])['Fare'].mean().plot(kind = 'bar',color ='g', width = 0.95)"
   ]
  },
  {
   "cell_type": "markdown",
   "metadata": {},
   "source": [
    "<a id='grouped_hists'></a>\n",
    "\n",
    "### Grouped histograms with pandas\n",
    "\n",
    "---\n",
    "\n",
    "In the chart we just made, each bar represents a distinct combination of our groups in the `.groupby`. This is fine, but it would be a more visually appealing and informative chart if we had one of the groups as different colors and could make a grouped bar chart.\n",
    "\n",
    "**Calculate the mean of Fare by Pclass and Sex using `groupby`, assign it to a variable, and print it out.**"
   ]
  },
  {
   "cell_type": "code",
   "execution_count": 103,
   "metadata": {},
   "outputs": [
    {
     "data": {
      "text/plain": [
       "Pclass  Sex   \n",
       "1       female    108.619680\n",
       "        male       71.142781\n",
       "2       female     21.951070\n",
       "        male       21.113131\n",
       "3       female     15.875369\n",
       "        male       12.162695\n",
       "Name: Fare, dtype: float64"
      ]
     },
     "execution_count": 103,
     "metadata": {},
     "output_type": "execute_result"
    }
   ],
   "source": [
    "hist_mean = titanic.groupby(['Pclass','Sex'])['Fare'].mean()\n",
    "hist_mean"
   ]
  },
  {
   "cell_type": "markdown",
   "metadata": {},
   "source": [
    "There is another built-in function for pandas objects called `.unstack()`. When we have a hierarchical index like we do above with Pclass as the broader category and Sex as the sub-category, the `.unstack()` command will attempt to move the subcategory from an index to column representation.\n",
    "\n",
    "This is a way to move from a \"long\" to \"wide\" column format.\n",
    "\n",
    "**Use the `.unstack()` function on your mean fare variable.**"
   ]
  },
  {
   "cell_type": "code",
   "execution_count": 104,
   "metadata": {},
   "outputs": [
    {
     "data": {
      "text/html": [
       "<div>\n",
       "<style>\n",
       "    .dataframe thead tr:only-child th {\n",
       "        text-align: right;\n",
       "    }\n",
       "\n",
       "    .dataframe thead th {\n",
       "        text-align: left;\n",
       "    }\n",
       "\n",
       "    .dataframe tbody tr th {\n",
       "        vertical-align: top;\n",
       "    }\n",
       "</style>\n",
       "<table border=\"1\" class=\"dataframe\">\n",
       "  <thead>\n",
       "    <tr style=\"text-align: right;\">\n",
       "      <th>Sex</th>\n",
       "      <th>female</th>\n",
       "      <th>male</th>\n",
       "    </tr>\n",
       "    <tr>\n",
       "      <th>Pclass</th>\n",
       "      <th></th>\n",
       "      <th></th>\n",
       "    </tr>\n",
       "  </thead>\n",
       "  <tbody>\n",
       "    <tr>\n",
       "      <th>1</th>\n",
       "      <td>108.619680</td>\n",
       "      <td>71.142781</td>\n",
       "    </tr>\n",
       "    <tr>\n",
       "      <th>2</th>\n",
       "      <td>21.951070</td>\n",
       "      <td>21.113131</td>\n",
       "    </tr>\n",
       "    <tr>\n",
       "      <th>3</th>\n",
       "      <td>15.875369</td>\n",
       "      <td>12.162695</td>\n",
       "    </tr>\n",
       "  </tbody>\n",
       "</table>\n",
       "</div>"
      ],
      "text/plain": [
       "Sex         female       male\n",
       "Pclass                       \n",
       "1       108.619680  71.142781\n",
       "2        21.951070  21.113131\n",
       "3        15.875369  12.162695"
      ]
     },
     "execution_count": 104,
     "metadata": {},
     "output_type": "execute_result"
    }
   ],
   "source": [
    "hist_mean.unstack()"
   ]
  },
  {
   "cell_type": "code",
   "execution_count": 108,
   "metadata": {},
   "outputs": [
    {
     "data": {
      "text/html": [
       "<div>\n",
       "<style>\n",
       "    .dataframe thead tr:only-child th {\n",
       "        text-align: right;\n",
       "    }\n",
       "\n",
       "    .dataframe thead th {\n",
       "        text-align: left;\n",
       "    }\n",
       "\n",
       "    .dataframe tbody tr th {\n",
       "        vertical-align: top;\n",
       "    }\n",
       "</style>\n",
       "<table border=\"1\" class=\"dataframe\">\n",
       "  <thead>\n",
       "    <tr style=\"text-align: right;\">\n",
       "      <th>Pclass</th>\n",
       "      <th>1</th>\n",
       "      <th>2</th>\n",
       "      <th>3</th>\n",
       "    </tr>\n",
       "    <tr>\n",
       "      <th>Sex</th>\n",
       "      <th></th>\n",
       "      <th></th>\n",
       "      <th></th>\n",
       "    </tr>\n",
       "  </thead>\n",
       "  <tbody>\n",
       "    <tr>\n",
       "      <th>female</th>\n",
       "      <td>108.619680</td>\n",
       "      <td>21.951070</td>\n",
       "      <td>15.875369</td>\n",
       "    </tr>\n",
       "    <tr>\n",
       "      <th>male</th>\n",
       "      <td>71.142781</td>\n",
       "      <td>21.113131</td>\n",
       "      <td>12.162695</td>\n",
       "    </tr>\n",
       "  </tbody>\n",
       "</table>\n",
       "</div>"
      ],
      "text/plain": [
       "Pclass           1          2          3\n",
       "Sex                                     \n",
       "female  108.619680  21.951070  15.875369\n",
       "male     71.142781  21.113131  12.162695"
      ]
     },
     "execution_count": 108,
     "metadata": {},
     "output_type": "execute_result"
    }
   ],
   "source": [
    "hist_mean.unstack().T"
   ]
  },
  {
   "cell_type": "markdown",
   "metadata": {},
   "source": [
    "**Now use the plot function on the unstacked data to create a bar chart.**"
   ]
  },
  {
   "cell_type": "code",
   "execution_count": 106,
   "metadata": {},
   "outputs": [
    {
     "data": {
      "text/plain": [
       "<matplotlib.axes._subplots.AxesSubplot at 0x12067df98>"
      ]
     },
     "execution_count": 106,
     "metadata": {},
     "output_type": "execute_result"
    },
    {
     "data": {
      "image/png": "[encoded data removed]",
      "text/plain": [
       "<matplotlib.figure.Figure at 0x120aeaeb8>"
      ]
     },
     "metadata": {
      "image/png": {
       "height": 254,
       "width": 369
      }
     },
     "output_type": "display_data"
    }
   ],
   "source": [
    "hist_mean.unstack().plot(kind = 'bar', width =0.85)"
   ]
  },
  {
   "cell_type": "markdown",
   "metadata": {},
   "source": [
    "If you add the keyword variable `stacked=True` it will instead stack the bars within the broader Pclass category."
   ]
  },
  {
   "cell_type": "code",
   "execution_count": 107,
   "metadata": {},
   "outputs": [
    {
     "data": {
      "text/plain": [
       "<matplotlib.axes._subplots.AxesSubplot at 0x120b44f60>"
      ]
     },
     "execution_count": 107,
     "metadata": {},
     "output_type": "execute_result"
    },
    {
     "data": {
      "image/png": "[encoded data removed]",
      "text/plain": [
       "<matplotlib.figure.Figure at 0x120d3b6a0>"
      ]
     },
     "metadata": {
      "image/png": {
       "height": 254,
       "width": 369
      }
     },
     "output_type": "display_data"
    }
   ],
   "source": [
    "hist_mean.unstack().plot(kind = 'bar', width =0.85, stacked = True)"
   ]
  },
  {
   "cell_type": "code",
   "execution_count": null,
   "metadata": {
    "collapsed": true
   },
   "outputs": [],
   "source": []
  }
 ],
 "metadata": {
  "kernelspec": {
   "display_name": "Python 3",
   "language": "python",
   "name": "python3"
  },
  "language_info": {
   "codemirror_mode": {
    "name": "ipython",
    "version": 3
   },
   "file_extension": ".py",
   "mimetype": "text/x-python",
   "name": "python",
   "nbconvert_exporter": "python",
   "pygments_lexer": "ipython3",
   "version": "3.6.1"
  }
 },
 "nbformat": 4,
 "nbformat_minor": 2
}
