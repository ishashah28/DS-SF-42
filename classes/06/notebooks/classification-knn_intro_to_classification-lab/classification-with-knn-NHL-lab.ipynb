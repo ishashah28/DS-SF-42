{
 "cells": [
  {
   "cell_type": "markdown",
   "metadata": {},
   "source": [
    "<img src=\"http://imgur.com/1ZcRyrc.png\" style=\"float: left; margin: 20px; height: 55px\">\n",
    "\n",
    "# Classification and KNN with NHL data\n",
    "\n",
    "_Authors: Joseph Nelson (DC)_\n",
    "\n",
    "---\n",
    "\n",
    "Below you will practice KNN classification on a dataset of NHL statistics.\n",
    "\n",
    "You will be predicting the `Rank` of a team from predictor variables of your choice."
   ]
  },
  {
   "cell_type": "code",
   "execution_count": 1,
   "metadata": {
    "collapsed": true
   },
   "outputs": [],
   "source": [
    "import matplotlib.pyplot as plt\n",
    "import numpy as np\n",
    "import pandas as pd\n",
    "import seaborn as sns\n",
    "\n",
    "%matplotlib inline\n",
    "%config InlineBackend.figure_format = 'retina'"
   ]
  },
  {
   "cell_type": "code",
   "execution_count": 2,
   "metadata": {
    "collapsed": true
   },
   "outputs": [],
   "source": [
    "# web location:\n",
    "web_csv = 'https://raw.githubusercontent.com/josephofiowa/GA-DSI/master/NHL_Data_GA.csv'\n",
    "local_csv = './datasets/NHL_Data_GA.csv'"
   ]
  },
  {
   "cell_type": "markdown",
   "metadata": {},
   "source": [
    "### 1. Load the NHL data"
   ]
  },
  {
   "cell_type": "code",
   "execution_count": 3,
   "metadata": {},
   "outputs": [
    {
     "data": {
      "text/html": [
       "<div>\n",
       "<style>\n",
       "    .dataframe thead tr:only-child th {\n",
       "        text-align: right;\n",
       "    }\n",
       "\n",
       "    .dataframe thead th {\n",
       "        text-align: left;\n",
       "    }\n",
       "\n",
       "    .dataframe tbody tr th {\n",
       "        vertical-align: top;\n",
       "    }\n",
       "</style>\n",
       "<table border=\"1\" class=\"dataframe\">\n",
       "  <thead>\n",
       "    <tr style=\"text-align: right;\">\n",
       "      <th></th>\n",
       "      <th>Team</th>\n",
       "      <th>PTS</th>\n",
       "      <th>Rank</th>\n",
       "      <th>TOI</th>\n",
       "      <th>GF</th>\n",
       "      <th>GA</th>\n",
       "      <th>GF60</th>\n",
       "      <th>GA60</th>\n",
       "      <th>GF%</th>\n",
       "      <th>SF</th>\n",
       "      <th>...</th>\n",
       "      <th>FF%</th>\n",
       "      <th>CF</th>\n",
       "      <th>CA</th>\n",
       "      <th>CF60</th>\n",
       "      <th>CA60</th>\n",
       "      <th>CF%</th>\n",
       "      <th>Sh%</th>\n",
       "      <th>Sv%</th>\n",
       "      <th>PDO</th>\n",
       "      <th>PIM</th>\n",
       "    </tr>\n",
       "  </thead>\n",
       "  <tbody>\n",
       "    <tr>\n",
       "      <th>0</th>\n",
       "      <td>Washington10</td>\n",
       "      <td>121</td>\n",
       "      <td>1</td>\n",
       "      <td>2001:52:00</td>\n",
       "      <td>115</td>\n",
       "      <td>73</td>\n",
       "      <td>3.45</td>\n",
       "      <td>2.19</td>\n",
       "      <td>61.2</td>\n",
       "      <td>1112</td>\n",
       "      <td>...</td>\n",
       "      <td>51.3</td>\n",
       "      <td>2138</td>\n",
       "      <td>1935</td>\n",
       "      <td>64.1</td>\n",
       "      <td>58.0</td>\n",
       "      <td>52.5</td>\n",
       "      <td>10.34</td>\n",
       "      <td>93.03</td>\n",
       "      <td>1034</td>\n",
       "      <td>1269</td>\n",
       "    </tr>\n",
       "    <tr>\n",
       "      <th>1</th>\n",
       "      <td>Vancouver11</td>\n",
       "      <td>117</td>\n",
       "      <td>1</td>\n",
       "      <td>2056:14:00</td>\n",
       "      <td>94</td>\n",
       "      <td>72</td>\n",
       "      <td>2.74</td>\n",
       "      <td>2.10</td>\n",
       "      <td>56.6</td>\n",
       "      <td>1143</td>\n",
       "      <td>...</td>\n",
       "      <td>53.1</td>\n",
       "      <td>2144</td>\n",
       "      <td>1870</td>\n",
       "      <td>62.6</td>\n",
       "      <td>54.6</td>\n",
       "      <td>53.4</td>\n",
       "      <td>8.22</td>\n",
       "      <td>93.16</td>\n",
       "      <td>1014</td>\n",
       "      <td>985</td>\n",
       "    </tr>\n",
       "    <tr>\n",
       "      <th>2</th>\n",
       "      <td>San Jose10</td>\n",
       "      <td>113</td>\n",
       "      <td>1</td>\n",
       "      <td>1929:54:00</td>\n",
       "      <td>90</td>\n",
       "      <td>68</td>\n",
       "      <td>2.80</td>\n",
       "      <td>2.11</td>\n",
       "      <td>57.0</td>\n",
       "      <td>1065</td>\n",
       "      <td>...</td>\n",
       "      <td>50.9</td>\n",
       "      <td>1985</td>\n",
       "      <td>1876</td>\n",
       "      <td>61.7</td>\n",
       "      <td>58.3</td>\n",
       "      <td>51.4</td>\n",
       "      <td>8.45</td>\n",
       "      <td>93.46</td>\n",
       "      <td>1019</td>\n",
       "      <td>1195</td>\n",
       "    </tr>\n",
       "    <tr>\n",
       "      <th>3</th>\n",
       "      <td>Chicago10</td>\n",
       "      <td>112</td>\n",
       "      <td>1</td>\n",
       "      <td>2020:23:00</td>\n",
       "      <td>104</td>\n",
       "      <td>83</td>\n",
       "      <td>3.09</td>\n",
       "      <td>2.46</td>\n",
       "      <td>55.6</td>\n",
       "      <td>1186</td>\n",
       "      <td>...</td>\n",
       "      <td>58.1</td>\n",
       "      <td>2093</td>\n",
       "      <td>1572</td>\n",
       "      <td>62.2</td>\n",
       "      <td>46.7</td>\n",
       "      <td>57.1</td>\n",
       "      <td>8.77</td>\n",
       "      <td>90.44</td>\n",
       "      <td>992</td>\n",
       "      <td>966</td>\n",
       "    </tr>\n",
       "    <tr>\n",
       "      <th>4</th>\n",
       "      <td>Vancouver12</td>\n",
       "      <td>111</td>\n",
       "      <td>1</td>\n",
       "      <td>2052:02:00</td>\n",
       "      <td>86</td>\n",
       "      <td>74</td>\n",
       "      <td>2.51</td>\n",
       "      <td>2.16</td>\n",
       "      <td>53.8</td>\n",
       "      <td>1078</td>\n",
       "      <td>...</td>\n",
       "      <td>51.0</td>\n",
       "      <td>2085</td>\n",
       "      <td>1880</td>\n",
       "      <td>61.0</td>\n",
       "      <td>55.0</td>\n",
       "      <td>52.6</td>\n",
       "      <td>7.98</td>\n",
       "      <td>93.36</td>\n",
       "      <td>1013</td>\n",
       "      <td>1049</td>\n",
       "    </tr>\n",
       "  </tbody>\n",
       "</table>\n",
       "<p>5 rows × 28 columns</p>\n",
       "</div>"
      ],
      "text/plain": [
       "           Team  PTS  Rank         TOI   GF  GA  GF60  GA60   GF%    SF  ...   \\\n",
       "0  Washington10  121     1  2001:52:00  115  73  3.45  2.19  61.2  1112  ...    \n",
       "1   Vancouver11  117     1  2056:14:00   94  72  2.74  2.10  56.6  1143  ...    \n",
       "2    San Jose10  113     1  1929:54:00   90  68  2.80  2.11  57.0  1065  ...    \n",
       "3     Chicago10  112     1  2020:23:00  104  83  3.09  2.46  55.6  1186  ...    \n",
       "4   Vancouver12  111     1  2052:02:00   86  74  2.51  2.16  53.8  1078  ...    \n",
       "\n",
       "    FF%    CF    CA  CF60  CA60   CF%    Sh%    Sv%   PDO   PIM  \n",
       "0  51.3  2138  1935  64.1  58.0  52.5  10.34  93.03  1034  1269  \n",
       "1  53.1  2144  1870  62.6  54.6  53.4   8.22  93.16  1014   985  \n",
       "2  50.9  1985  1876  61.7  58.3  51.4   8.45  93.46  1019  1195  \n",
       "3  58.1  2093  1572  62.2  46.7  57.1   8.77  90.44   992   966  \n",
       "4  51.0  2085  1880  61.0  55.0  52.6   7.98  93.36  1013  1049  \n",
       "\n",
       "[5 rows x 28 columns]"
      ]
     },
     "execution_count": 3,
     "metadata": {},
     "output_type": "execute_result"
    }
   ],
   "source": [
    "# A:\n",
    "nhl_df = pd.read_csv(local_csv)\n",
    "nhl_df.head()"
   ]
  },
  {
   "cell_type": "markdown",
   "metadata": {},
   "source": [
    "### 2. Perform any required data cleaning. Do some EDA."
   ]
  },
  {
   "cell_type": "code",
   "execution_count": 4,
   "metadata": {},
   "outputs": [
    {
     "data": {
      "text/html": [
       "<div>\n",
       "<style>\n",
       "    .dataframe thead tr:only-child th {\n",
       "        text-align: right;\n",
       "    }\n",
       "\n",
       "    .dataframe thead th {\n",
       "        text-align: left;\n",
       "    }\n",
       "\n",
       "    .dataframe tbody tr th {\n",
       "        vertical-align: top;\n",
       "    }\n",
       "</style>\n",
       "<table border=\"1\" class=\"dataframe\">\n",
       "  <thead>\n",
       "    <tr style=\"text-align: right;\">\n",
       "      <th></th>\n",
       "      <th>PTS</th>\n",
       "      <th>Rank</th>\n",
       "      <th>GF</th>\n",
       "      <th>GA</th>\n",
       "      <th>GF60</th>\n",
       "      <th>GA60</th>\n",
       "      <th>GF%</th>\n",
       "      <th>SF</th>\n",
       "      <th>SA</th>\n",
       "      <th>SF60</th>\n",
       "      <th>...</th>\n",
       "      <th>FF%</th>\n",
       "      <th>CF</th>\n",
       "      <th>CA</th>\n",
       "      <th>CF60</th>\n",
       "      <th>CA60</th>\n",
       "      <th>CF%</th>\n",
       "      <th>Sh%</th>\n",
       "      <th>Sv%</th>\n",
       "      <th>PDO</th>\n",
       "      <th>PIM</th>\n",
       "    </tr>\n",
       "  </thead>\n",
       "  <tbody>\n",
       "    <tr>\n",
       "      <th>count</th>\n",
       "      <td>90.000000</td>\n",
       "      <td>90.000000</td>\n",
       "      <td>90.000000</td>\n",
       "      <td>90.000000</td>\n",
       "      <td>90.000000</td>\n",
       "      <td>90.000000</td>\n",
       "      <td>90.000000</td>\n",
       "      <td>90.000000</td>\n",
       "      <td>90.000000</td>\n",
       "      <td>90.000000</td>\n",
       "      <td>...</td>\n",
       "      <td>90.000000</td>\n",
       "      <td>90.000000</td>\n",
       "      <td>90.000000</td>\n",
       "      <td>90.000000</td>\n",
       "      <td>90.000000</td>\n",
       "      <td>90.000000</td>\n",
       "      <td>90.000000</td>\n",
       "      <td>90.000000</td>\n",
       "      <td>90.000000</td>\n",
       "      <td>90.000000</td>\n",
       "    </tr>\n",
       "    <tr>\n",
       "      <th>mean</th>\n",
       "      <td>91.977778</td>\n",
       "      <td>2.022222</td>\n",
       "      <td>83.288889</td>\n",
       "      <td>83.288889</td>\n",
       "      <td>2.442222</td>\n",
       "      <td>2.444000</td>\n",
       "      <td>49.981111</td>\n",
       "      <td>1068.333333</td>\n",
       "      <td>1068.333333</td>\n",
       "      <td>31.252222</td>\n",
       "      <td>...</td>\n",
       "      <td>49.966667</td>\n",
       "      <td>1973.466667</td>\n",
       "      <td>1973.466667</td>\n",
       "      <td>57.735556</td>\n",
       "      <td>57.798889</td>\n",
       "      <td>49.972222</td>\n",
       "      <td>7.814556</td>\n",
       "      <td>92.182556</td>\n",
       "      <td>999.988889</td>\n",
       "      <td>990.966667</td>\n",
       "    </tr>\n",
       "    <tr>\n",
       "      <th>std</th>\n",
       "      <td>12.524114</td>\n",
       "      <td>0.820767</td>\n",
       "      <td>10.376339</td>\n",
       "      <td>9.694484</td>\n",
       "      <td>0.325331</td>\n",
       "      <td>0.313522</td>\n",
       "      <td>4.644554</td>\n",
       "      <td>95.929047</td>\n",
       "      <td>75.514118</td>\n",
       "      <td>2.237637</td>\n",
       "      <td>...</td>\n",
       "      <td>2.797913</td>\n",
       "      <td>176.468299</td>\n",
       "      <td>154.148928</td>\n",
       "      <td>4.124476</td>\n",
       "      <td>4.291106</td>\n",
       "      <td>2.844313</td>\n",
       "      <td>0.866942</td>\n",
       "      <td>0.928621</td>\n",
       "      <td>12.292772</td>\n",
       "      <td>178.049321</td>\n",
       "    </tr>\n",
       "    <tr>\n",
       "      <th>min</th>\n",
       "      <td>62.000000</td>\n",
       "      <td>1.000000</td>\n",
       "      <td>57.000000</td>\n",
       "      <td>64.000000</td>\n",
       "      <td>1.700000</td>\n",
       "      <td>1.730000</td>\n",
       "      <td>38.000000</td>\n",
       "      <td>815.000000</td>\n",
       "      <td>868.000000</td>\n",
       "      <td>25.800000</td>\n",
       "      <td>...</td>\n",
       "      <td>43.100000</td>\n",
       "      <td>1565.000000</td>\n",
       "      <td>1572.000000</td>\n",
       "      <td>49.500000</td>\n",
       "      <td>46.700000</td>\n",
       "      <td>43.700000</td>\n",
       "      <td>5.900000</td>\n",
       "      <td>89.830000</td>\n",
       "      <td>978.000000</td>\n",
       "      <td>689.000000</td>\n",
       "    </tr>\n",
       "    <tr>\n",
       "      <th>25%</th>\n",
       "      <td>82.250000</td>\n",
       "      <td>1.000000</td>\n",
       "      <td>76.000000</td>\n",
       "      <td>75.500000</td>\n",
       "      <td>2.232500</td>\n",
       "      <td>2.202500</td>\n",
       "      <td>46.825000</td>\n",
       "      <td>1011.500000</td>\n",
       "      <td>1022.250000</td>\n",
       "      <td>29.550000</td>\n",
       "      <td>...</td>\n",
       "      <td>47.775000</td>\n",
       "      <td>1855.250000</td>\n",
       "      <td>1877.000000</td>\n",
       "      <td>54.275000</td>\n",
       "      <td>54.600000</td>\n",
       "      <td>47.925000</td>\n",
       "      <td>7.235000</td>\n",
       "      <td>91.555000</td>\n",
       "      <td>992.000000</td>\n",
       "      <td>881.250000</td>\n",
       "    </tr>\n",
       "    <tr>\n",
       "      <th>50%</th>\n",
       "      <td>92.500000</td>\n",
       "      <td>2.000000</td>\n",
       "      <td>84.000000</td>\n",
       "      <td>84.000000</td>\n",
       "      <td>2.400000</td>\n",
       "      <td>2.495000</td>\n",
       "      <td>49.700000</td>\n",
       "      <td>1072.000000</td>\n",
       "      <td>1072.000000</td>\n",
       "      <td>31.400000</td>\n",
       "      <td>...</td>\n",
       "      <td>50.050000</td>\n",
       "      <td>1981.500000</td>\n",
       "      <td>1961.000000</td>\n",
       "      <td>58.050000</td>\n",
       "      <td>58.350000</td>\n",
       "      <td>50.400000</td>\n",
       "      <td>7.730000</td>\n",
       "      <td>92.250000</td>\n",
       "      <td>1000.500000</td>\n",
       "      <td>960.000000</td>\n",
       "    </tr>\n",
       "    <tr>\n",
       "      <th>75%</th>\n",
       "      <td>102.000000</td>\n",
       "      <td>3.000000</td>\n",
       "      <td>90.000000</td>\n",
       "      <td>89.000000</td>\n",
       "      <td>2.600000</td>\n",
       "      <td>2.670000</td>\n",
       "      <td>53.625000</td>\n",
       "      <td>1143.000000</td>\n",
       "      <td>1125.750000</td>\n",
       "      <td>32.775000</td>\n",
       "      <td>...</td>\n",
       "      <td>51.775000</td>\n",
       "      <td>2112.750000</td>\n",
       "      <td>2077.250000</td>\n",
       "      <td>60.850000</td>\n",
       "      <td>60.400000</td>\n",
       "      <td>52.000000</td>\n",
       "      <td>8.270000</td>\n",
       "      <td>92.870000</td>\n",
       "      <td>1007.750000</td>\n",
       "      <td>1101.500000</td>\n",
       "    </tr>\n",
       "    <tr>\n",
       "      <th>max</th>\n",
       "      <td>121.000000</td>\n",
       "      <td>3.000000</td>\n",
       "      <td>115.000000</td>\n",
       "      <td>107.000000</td>\n",
       "      <td>3.450000</td>\n",
       "      <td>3.240000</td>\n",
       "      <td>61.200000</td>\n",
       "      <td>1311.000000</td>\n",
       "      <td>1245.000000</td>\n",
       "      <td>35.600000</td>\n",
       "      <td>...</td>\n",
       "      <td>58.100000</td>\n",
       "      <td>2341.000000</td>\n",
       "      <td>2332.000000</td>\n",
       "      <td>64.900000</td>\n",
       "      <td>67.500000</td>\n",
       "      <td>57.100000</td>\n",
       "      <td>10.340000</td>\n",
       "      <td>93.940000</td>\n",
       "      <td>1034.000000</td>\n",
       "      <td>1515.000000</td>\n",
       "    </tr>\n",
       "  </tbody>\n",
       "</table>\n",
       "<p>8 rows × 26 columns</p>\n",
       "</div>"
      ],
      "text/plain": [
       "              PTS       Rank          GF          GA       GF60       GA60  \\\n",
       "count   90.000000  90.000000   90.000000   90.000000  90.000000  90.000000   \n",
       "mean    91.977778   2.022222   83.288889   83.288889   2.442222   2.444000   \n",
       "std     12.524114   0.820767   10.376339    9.694484   0.325331   0.313522   \n",
       "min     62.000000   1.000000   57.000000   64.000000   1.700000   1.730000   \n",
       "25%     82.250000   1.000000   76.000000   75.500000   2.232500   2.202500   \n",
       "50%     92.500000   2.000000   84.000000   84.000000   2.400000   2.495000   \n",
       "75%    102.000000   3.000000   90.000000   89.000000   2.600000   2.670000   \n",
       "max    121.000000   3.000000  115.000000  107.000000   3.450000   3.240000   \n",
       "\n",
       "             GF%           SF           SA       SF60     ...             FF%  \\\n",
       "count  90.000000    90.000000    90.000000  90.000000     ...       90.000000   \n",
       "mean   49.981111  1068.333333  1068.333333  31.252222     ...       49.966667   \n",
       "std     4.644554    95.929047    75.514118   2.237637     ...        2.797913   \n",
       "min    38.000000   815.000000   868.000000  25.800000     ...       43.100000   \n",
       "25%    46.825000  1011.500000  1022.250000  29.550000     ...       47.775000   \n",
       "50%    49.700000  1072.000000  1072.000000  31.400000     ...       50.050000   \n",
       "75%    53.625000  1143.000000  1125.750000  32.775000     ...       51.775000   \n",
       "max    61.200000  1311.000000  1245.000000  35.600000     ...       58.100000   \n",
       "\n",
       "                CF           CA       CF60       CA60        CF%        Sh%  \\\n",
       "count    90.000000    90.000000  90.000000  90.000000  90.000000  90.000000   \n",
       "mean   1973.466667  1973.466667  57.735556  57.798889  49.972222   7.814556   \n",
       "std     176.468299   154.148928   4.124476   4.291106   2.844313   0.866942   \n",
       "min    1565.000000  1572.000000  49.500000  46.700000  43.700000   5.900000   \n",
       "25%    1855.250000  1877.000000  54.275000  54.600000  47.925000   7.235000   \n",
       "50%    1981.500000  1961.000000  58.050000  58.350000  50.400000   7.730000   \n",
       "75%    2112.750000  2077.250000  60.850000  60.400000  52.000000   8.270000   \n",
       "max    2341.000000  2332.000000  64.900000  67.500000  57.100000  10.340000   \n",
       "\n",
       "             Sv%          PDO          PIM  \n",
       "count  90.000000    90.000000    90.000000  \n",
       "mean   92.182556   999.988889   990.966667  \n",
       "std     0.928621    12.292772   178.049321  \n",
       "min    89.830000   978.000000   689.000000  \n",
       "25%    91.555000   992.000000   881.250000  \n",
       "50%    92.250000  1000.500000   960.000000  \n",
       "75%    92.870000  1007.750000  1101.500000  \n",
       "max    93.940000  1034.000000  1515.000000  \n",
       "\n",
       "[8 rows x 26 columns]"
      ]
     },
     "execution_count": 4,
     "metadata": {},
     "output_type": "execute_result"
    }
   ],
   "source": [
    "nhl_df.describe()"
   ]
  },
  {
   "cell_type": "code",
   "execution_count": 5,
   "metadata": {
    "scrolled": true
   },
   "outputs": [
    {
     "data": {
      "text/plain": [
       "<matplotlib.axes._subplots.AxesSubplot at 0x116987400>"
      ]
     },
     "execution_count": 5,
     "metadata": {},
     "output_type": "execute_result"
    },
    {
     "data": {
      "image/png": "[encoded data removed]",
      "text/plain": [
       "<matplotlib.figure.Figure at 0x11bbae550>"
      ]
     },
     "metadata": {
      "image/png": {
       "height": 267,
       "width": 374
      }
     },
     "output_type": "display_data"
    }
   ],
   "source": [
    "sns.heatmap(nhl_df.corr())"
   ]
  },
  {
   "cell_type": "code",
   "execution_count": 6,
   "metadata": {},
   "outputs": [
    {
     "data": {
      "text/plain": [
       "<matplotlib.axes._subplots.AxesSubplot at 0x11ef8dba8>"
      ]
     },
     "execution_count": 6,
     "metadata": {},
     "output_type": "execute_result"
    },
    {
     "data": {
      "image/png": "[encoded data removed]",
      "text/plain": [
       "<matplotlib.figure.Figure at 0x11ef86a90>"
      ]
     },
     "metadata": {
      "image/png": {
       "height": 250,
       "width": 384
      }
     },
     "output_type": "display_data"
    }
   ],
   "source": [
    "nhl_df.plot(kind='box')"
   ]
  },
  {
   "cell_type": "code",
   "execution_count": 9,
   "metadata": {},
   "outputs": [
    {
     "data": {
      "text/plain": [
       "Team\n",
       "Anaheim10         2\n",
       "Anaheim11         2\n",
       "Anaheim12         3\n",
       "Boston10          2\n",
       "Boston11          1\n",
       "Boston12          1\n",
       "Buffalo10         1\n",
       "Buffalo11         2\n",
       "Buffalo12         2\n",
       "Calgary10         2\n",
       "Calgary11         2\n",
       "Calgary12         2\n",
       "Carolina10        3\n",
       "Carolina11        2\n",
       "Carolina12        3\n",
       "Chicago10         1\n",
       "Chicago11         2\n",
       "Chicago12         1\n",
       "Colorado10        3\n",
       "Colorado11        3\n",
       "Colorado12        3\n",
       "Columbus10        2\n",
       "Columbus11        3\n",
       "Columbus12        2\n",
       "Dallas10          2\n",
       "Dallas11          2\n",
       "Dallas12          2\n",
       "Detroit10         1\n",
       "Detroit11         1\n",
       "Detroit12         1\n",
       "                 ..\n",
       "Philadelphia10    2\n",
       "Philadelphia11    1\n",
       "Philadelphia12    1\n",
       "Phoenix10         1\n",
       "Phoenix11         2\n",
       "Phoenix12         2\n",
       "Pittsburgh10      1\n",
       "Pittsburgh11      1\n",
       "Pittsburgh12      1\n",
       "San Jose10        1\n",
       "San Jose11        1\n",
       "San Jose12        2\n",
       "St. Louis10       2\n",
       "St. Louis11       3\n",
       "St. Louis12       1\n",
       "Tampa Bay10       3\n",
       "Tampa Bay11       1\n",
       "Tampa Bay12       3\n",
       "Toronto10         3\n",
       "Toronto11         3\n",
       "Toronto12         3\n",
       "Vancouver10       1\n",
       "Vancouver11       1\n",
       "Vancouver12       1\n",
       "Washington10      1\n",
       "Washington11      1\n",
       "Washington12      2\n",
       "Winnipeg10        3\n",
       "Winnipeg11        3\n",
       "Winnipeg12        3\n",
       "Name: Rank, Length: 90, dtype: int64"
      ]
     },
     "execution_count": 9,
     "metadata": {},
     "output_type": "execute_result"
    }
   ],
   "source": [
    "nhl_df.groupby('Team')['Rank'].mean()"
   ]
  },
  {
   "cell_type": "code",
   "execution_count": 7,
   "metadata": {},
   "outputs": [
    {
     "data": {
      "text/plain": [
       "array([1, 2, 3])"
      ]
     },
     "execution_count": 7,
     "metadata": {},
     "output_type": "execute_result"
    }
   ],
   "source": [
    "nhl_df.Rank.unique()"
   ]
  },
  {
   "cell_type": "code",
   "execution_count": 8,
   "metadata": {
    "scrolled": true
   },
   "outputs": [
    {
     "data": {
      "text/plain": [
       "array(['Washington10', 'Vancouver11', 'San Jose10', 'Chicago10',\n",
       "       'Vancouver12', 'NY Rangers12', 'St. Louis12', 'Pittsburgh12',\n",
       "       'Phoenix10', 'Washington11', 'Philadelphia11', 'Pittsburgh11',\n",
       "       'San Jose11', 'Detroit11', 'Nashville12', 'New Jersey10',\n",
       "       'Vancouver10', 'Boston11', 'Tampa Bay11', 'Philadelphia12',\n",
       "       'Detroit10', 'Boston12', 'Detroit12', 'New Jersey12',\n",
       "       'Los Angeles10', 'Pittsburgh10', 'Chicago12', 'Buffalo10',\n",
       "       'Nashville10', 'Anaheim11', 'Nashville11', 'Phoenix11',\n",
       "       'Los Angeles11', 'Chicago11', 'Phoenix12', 'Buffalo11',\n",
       "       'Montreal11', 'San Jose12', 'Columbus10', 'Dallas11',\n",
       "       'Los Angeles12', 'Ottawa10', 'Calgary11', 'Florida12',\n",
       "       'NY Rangers11', 'Ottawa12', 'Washington12', 'Boston10',\n",
       "       'Carolina11', 'Calgary10', 'St. Louis10', 'Calgary12', 'Anaheim10',\n",
       "       'Buffalo12', 'Dallas12', 'Dallas10', 'Montreal10', 'Philadelphia10',\n",
       "       'Columbus12', 'NY Rangers10', 'St. Louis11', 'Minnesota11',\n",
       "       'Toronto11', 'Minnesota10', 'Tampa Bay12', 'Winnipeg12',\n",
       "       'Winnipeg10', 'Carolina12', 'Colorado11', 'New Jersey11',\n",
       "       'Minnesota12', 'Carolina10', 'Tampa Bay10', 'Winnipeg11',\n",
       "       'Anaheim12', 'Toronto12', 'Colorado10', 'NY Islanders10',\n",
       "       'NY Islanders12', 'Montreal12', 'Florida10', 'Toronto10',\n",
       "       'Ottawa11', 'Edmonton12', 'NY Islanders11', 'Florida11',\n",
       "       'Columbus11', 'Colorado12', 'Edmonton10', 'Edmonton11'], dtype=object)"
      ]
     },
     "execution_count": 8,
     "metadata": {},
     "output_type": "execute_result"
    }
   ],
   "source": [
    "nhl_df.Team.unique()"
   ]
  },
  {
   "cell_type": "code",
   "execution_count": 4,
   "metadata": {},
   "outputs": [
    {
     "data": {
      "text/plain": [
       "Team     object\n",
       "PTS       int64\n",
       "Rank      int64\n",
       "TOI      object\n",
       "GF        int64\n",
       "GA        int64\n",
       "GF60    float64\n",
       "GA60    float64\n",
       "GF%     float64\n",
       "SF        int64\n",
       "SA        int64\n",
       "SF60    float64\n",
       "SA60    float64\n",
       "SF%     float64\n",
       "FF        int64\n",
       "FA        int64\n",
       "FF60    float64\n",
       "FA60    float64\n",
       "FF%     float64\n",
       "CF        int64\n",
       "CA        int64\n",
       "CF60    float64\n",
       "CA60    float64\n",
       "CF%     float64\n",
       "Sh%     float64\n",
       "Sv%     float64\n",
       "PDO       int64\n",
       "PIM       int64\n",
       "dtype: object"
      ]
     },
     "execution_count": 4,
     "metadata": {},
     "output_type": "execute_result"
    }
   ],
   "source": [
    "# A:\n",
    "nhl_df.dtypes"
   ]
  },
  {
   "cell_type": "markdown",
   "metadata": {},
   "source": [
    "### 3. Set up the `Rank` variable as your target. How many classes are there?"
   ]
  },
  {
   "cell_type": "code",
   "execution_count": 15,
   "metadata": {},
   "outputs": [
    {
     "data": {
      "text/plain": [
       "3"
      ]
     },
     "execution_count": 15,
     "metadata": {},
     "output_type": "execute_result"
    }
   ],
   "source": [
    "nhl_df.Rank.nunique()"
   ]
  },
  {
   "cell_type": "markdown",
   "metadata": {},
   "source": [
    "There are 3 classes - Rank 1,2,3"
   ]
  },
  {
   "cell_type": "code",
   "execution_count": 10,
   "metadata": {
    "collapsed": true
   },
   "outputs": [],
   "source": [
    "# A:\n",
    "y = nhl_df.Rank"
   ]
  },
  {
   "cell_type": "markdown",
   "metadata": {},
   "source": [
    "### 4. What is the baseline accuracy?"
   ]
  },
  {
   "cell_type": "code",
   "execution_count": 11,
   "metadata": {},
   "outputs": [
    {
     "data": {
      "text/plain": [
       "3    0.170330\n",
       "2    0.164835\n",
       "1    0.159341\n",
       "Name: Rank, dtype: float64"
      ]
     },
     "execution_count": 11,
     "metadata": {},
     "output_type": "execute_result"
    }
   ],
   "source": [
    "# A:\n",
    "baseline = y.value_counts()/y.sum()\n",
    "baseline"
   ]
  },
  {
   "cell_type": "markdown",
   "metadata": {},
   "source": [
    "### 5. Choose 4 features to be your predictor variables and set up your design matrix."
   ]
  },
  {
   "cell_type": "code",
   "execution_count": 12,
   "metadata": {},
   "outputs": [
    {
     "data": {
      "text/html": [
       "<div>\n",
       "<style>\n",
       "    .dataframe thead tr:only-child th {\n",
       "        text-align: right;\n",
       "    }\n",
       "\n",
       "    .dataframe thead th {\n",
       "        text-align: left;\n",
       "    }\n",
       "\n",
       "    .dataframe tbody tr th {\n",
       "        vertical-align: top;\n",
       "    }\n",
       "</style>\n",
       "<table border=\"1\" class=\"dataframe\">\n",
       "  <thead>\n",
       "    <tr style=\"text-align: right;\">\n",
       "      <th></th>\n",
       "      <th>Sh%</th>\n",
       "      <th>Sv%</th>\n",
       "      <th>PDO</th>\n",
       "      <th>PIM</th>\n",
       "    </tr>\n",
       "  </thead>\n",
       "  <tbody>\n",
       "    <tr>\n",
       "      <th>0</th>\n",
       "      <td>10.34</td>\n",
       "      <td>93.03</td>\n",
       "      <td>1034</td>\n",
       "      <td>1269</td>\n",
       "    </tr>\n",
       "    <tr>\n",
       "      <th>1</th>\n",
       "      <td>8.22</td>\n",
       "      <td>93.16</td>\n",
       "      <td>1014</td>\n",
       "      <td>985</td>\n",
       "    </tr>\n",
       "    <tr>\n",
       "      <th>2</th>\n",
       "      <td>8.45</td>\n",
       "      <td>93.46</td>\n",
       "      <td>1019</td>\n",
       "      <td>1195</td>\n",
       "    </tr>\n",
       "    <tr>\n",
       "      <th>3</th>\n",
       "      <td>8.77</td>\n",
       "      <td>90.44</td>\n",
       "      <td>992</td>\n",
       "      <td>966</td>\n",
       "    </tr>\n",
       "    <tr>\n",
       "      <th>4</th>\n",
       "      <td>7.98</td>\n",
       "      <td>93.36</td>\n",
       "      <td>1013</td>\n",
       "      <td>1049</td>\n",
       "    </tr>\n",
       "  </tbody>\n",
       "</table>\n",
       "</div>"
      ],
      "text/plain": [
       "     Sh%    Sv%   PDO   PIM\n",
       "0  10.34  93.03  1034  1269\n",
       "1   8.22  93.16  1014   985\n",
       "2   8.45  93.46  1019  1195\n",
       "3   8.77  90.44   992   966\n",
       "4   7.98  93.36  1013  1049"
      ]
     },
     "execution_count": 12,
     "metadata": {},
     "output_type": "execute_result"
    }
   ],
   "source": [
    "# A:\n",
    "feature = ['Sh%','Sv%','PDO','PIM']\n",
    "X = nhl_df[feature]\n",
    "X.head()"
   ]
  },
  {
   "cell_type": "markdown",
   "metadata": {},
   "source": [
    "### 6. Fit a `KNeighborsClassifier` with 1 neighbor using the target and predictors."
   ]
  },
  {
   "cell_type": "code",
   "execution_count": 13,
   "metadata": {},
   "outputs": [
    {
     "data": {
      "text/plain": [
       "KNeighborsClassifier(algorithm='auto', leaf_size=30, metric='minkowski',\n",
       "           metric_params=None, n_jobs=1, n_neighbors=1, p=2,\n",
       "           weights='uniform')"
      ]
     },
     "execution_count": 13,
     "metadata": {},
     "output_type": "execute_result"
    }
   ],
   "source": [
    "# A:\n",
    "from sklearn.neighbors import KNeighborsClassifier\n",
    "\n",
    "knn = KNeighborsClassifier(n_neighbors = 1)\n",
    "\n",
    "knn.fit(X,y)"
   ]
  },
  {
   "cell_type": "markdown",
   "metadata": {},
   "source": [
    "### 7. Evaluate the accuracy of your model.\n",
    "- Is it better than baseline?\n",
    "- Is it legitimate?"
   ]
  },
  {
   "cell_type": "code",
   "execution_count": 16,
   "metadata": {},
   "outputs": [
    {
     "name": "stdout",
     "output_type": "stream",
     "text": [
      "1.0\n"
     ]
    }
   ],
   "source": [
    "# A:\n",
    "y_pred = knn.predict(X)\n",
    "\n",
    "from sklearn import metrics\n",
    "\n",
    "print(metrics.accuracy_score(y,y_pred))"
   ]
  },
  {
   "cell_type": "markdown",
   "metadata": {},
   "source": [
    "100% accuracy means we are overfitting the data"
   ]
  },
  {
   "cell_type": "markdown",
   "metadata": {},
   "source": [
    "### 8. Create a 50-50 train-test-split of your target and predictors. Refit the KNN and assess the accuracy."
   ]
  },
  {
   "cell_type": "code",
   "execution_count": 17,
   "metadata": {},
   "outputs": [
    {
     "name": "stdout",
     "output_type": "stream",
     "text": [
      "0.555555555556\n"
     ]
    }
   ],
   "source": [
    "# A:\n",
    "from sklearn.model_selection import train_test_split\n",
    "\n",
    "X_train, X_test, y_train, y_test = train_test_split(X, y, test_size = 0.5)\n",
    "\n",
    "knn1 = KNeighborsClassifier(n_neighbors=1)\n",
    "knn1.fit(X_train, y_train)\n",
    "\n",
    "y_pred = knn1.predict(X_test)\n",
    "\n",
    "print(metrics.accuracy_score(y_test , y_pred))\n"
   ]
  },
  {
   "cell_type": "code",
   "execution_count": null,
   "metadata": {},
   "outputs": [],
   "source": []
  },
  {
   "cell_type": "markdown",
   "metadata": {},
   "source": [
    "### 9. Evaluate the test accuracy of a KNN where K == number of rows in the training data."
   ]
  },
  {
   "cell_type": "code",
   "execution_count": 19,
   "metadata": {},
   "outputs": [
    {
     "name": "stdout",
     "output_type": "stream",
     "text": [
      "0.266666666667\n"
     ]
    }
   ],
   "source": [
    "# A:\n",
    "knn2 = KNeighborsClassifier(n_neighbors=X_train.shape[0])\n",
    "knn2.fit(X_train,y_train)\n",
    "\n",
    "y_pred = knn2.predict(X_test)\n",
    "print(metrics.accuracy_score(y_test, y_pred))"
   ]
  },
  {
   "cell_type": "markdown",
   "metadata": {},
   "source": [
    "### 10. Fit the KNN at values of K from 1 to the number of rows in the training data.\n",
    "- Store the test accuracy in a list.\n",
    "- Plot the test accuracy vs. the number of neighbors."
   ]
  },
  {
   "cell_type": "code",
   "execution_count": 21,
   "metadata": {},
   "outputs": [
    {
     "data": {
      "text/plain": [
       "[0.55555555555555558,\n",
       " 0.40000000000000002,\n",
       " 0.37777777777777777,\n",
       " 0.42222222222222222,\n",
       " 0.40000000000000002,\n",
       " 0.40000000000000002,\n",
       " 0.35555555555555557,\n",
       " 0.37777777777777777,\n",
       " 0.40000000000000002,\n",
       " 0.40000000000000002,\n",
       " 0.33333333333333331,\n",
       " 0.31111111111111112,\n",
       " 0.28888888888888886,\n",
       " 0.28888888888888886,\n",
       " 0.31111111111111112,\n",
       " 0.28888888888888886,\n",
       " 0.31111111111111112,\n",
       " 0.33333333333333331,\n",
       " 0.35555555555555557,\n",
       " 0.33333333333333331,\n",
       " 0.33333333333333331,\n",
       " 0.33333333333333331,\n",
       " 0.33333333333333331,\n",
       " 0.33333333333333331,\n",
       " 0.33333333333333331,\n",
       " 0.33333333333333331,\n",
       " 0.35555555555555557,\n",
       " 0.35555555555555557,\n",
       " 0.35555555555555557,\n",
       " 0.33333333333333331,\n",
       " 0.33333333333333331,\n",
       " 0.33333333333333331,\n",
       " 0.33333333333333331,\n",
       " 0.33333333333333331,\n",
       " 0.26666666666666666,\n",
       " 0.26666666666666666,\n",
       " 0.26666666666666666,\n",
       " 0.26666666666666666,\n",
       " 0.26666666666666666,\n",
       " 0.26666666666666666,\n",
       " 0.26666666666666666,\n",
       " 0.26666666666666666,\n",
       " 0.26666666666666666,\n",
       " 0.26666666666666666,\n",
       " 0.26666666666666666]"
      ]
     },
     "execution_count": 21,
     "metadata": {},
     "output_type": "execute_result"
    }
   ],
   "source": [
    "# A:\n",
    "test_acc = []\n",
    "for i in range(1, X_train.shape[0]+1):\n",
    "    knn = KNeighborsClassifier(n_neighbors=i)\n",
    "    knn.fit(X_train,y_train)\n",
    "    test_acc.append(knn.score(X_test,y_test))\n",
    "test_acc"
   ]
  },
  {
   "cell_type": "code",
   "execution_count": 27,
   "metadata": {},
   "outputs": [
    {
     "data": {
      "image/png": "[encoded data removed]",
      "text/plain": [
       "<matplotlib.figure.Figure at 0x12134e860>"
      ]
     },
     "metadata": {
      "image/png": {
       "height": 467,
       "width": 603
      }
     },
     "output_type": "display_data"
    }
   ],
   "source": [
    "fig, ax = plt.subplots(figsize=(10,8))\n",
    "ax.plot(range(1,X_train.shape[0] + 1), test_acc)\n",
    "plt.show()\n",
    "\n"
   ]
  },
  {
   "cell_type": "markdown",
   "metadata": {},
   "source": [
    "### 11. Fit KNN across different values of K and plot the mean cross-validated accuracy with 5 folds."
   ]
  },
  {
   "cell_type": "code",
   "execution_count": 13,
   "metadata": {
    "collapsed": true
   },
   "outputs": [],
   "source": [
    "# A:"
   ]
  },
  {
   "cell_type": "markdown",
   "metadata": {},
   "source": [
    "### 12. Standardize the predictor matrix and cross-validate across the different K.\n",
    "- Plot the standardized mean cross-validated accuracy against the unstandardized. Which is better?\n",
    "- Why?"
   ]
  },
  {
   "cell_type": "code",
   "execution_count": 14,
   "metadata": {
    "collapsed": true
   },
   "outputs": [],
   "source": [
    "# A:"
   ]
  }
 ],
 "metadata": {
  "kernelspec": {
   "display_name": "Python 3",
   "language": "python",
   "name": "python3"
  },
  "language_info": {
   "codemirror_mode": {
    "name": "ipython",
    "version": 3
   },
   "file_extension": ".py",
   "mimetype": "text/x-python",
   "name": "python",
   "nbconvert_exporter": "python",
   "pygments_lexer": "ipython3",
   "version": "3.6.1"
  }
 },
 "nbformat": 4,
 "nbformat_minor": 2
}
